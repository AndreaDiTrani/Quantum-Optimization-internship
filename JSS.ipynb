{
  "nbformat": 4,
  "nbformat_minor": 0,
  "metadata": {
    "colab": {
      "provenance": [],
      "collapsed_sections": [
        "581y2CJykGXo",
        "dSMqPZFHkUh-"
      ]
    },
    "kernelspec": {
      "name": "python3",
      "display_name": "Python 3"
    },
    "language_info": {
      "name": "python"
    }
  },
  "cells": [
    {
      "cell_type": "markdown",
      "source": [
        "In this notebook i tackle the JSS problem from start to finish via quantum annealing.\n",
        "\n",
        "At the moment the workflow is:\n",
        "\n",
        "\n",
        "\n",
        "*   Instance generation\n",
        "*   QUBO fomrulation with timespan discrimination\n",
        "*   Pruning\n",
        "*   Default embedding and compilation\n",
        "*   Problem solution using quantum annealing on QPU\n",
        "*   Solution visualization\n",
        "\n",
        "Next steps are:\n",
        "\n",
        "*   Fault tolerant IP embedding\n",
        "*   Data collection for problems pre-characterization\n",
        "*   Graph visualization\n",
        "\n"
      ],
      "metadata": {
        "id": "GIvJ8UEWefRN"
      }
    },
    {
      "cell_type": "markdown",
      "source": [
        "#IMPORTS"
      ],
      "metadata": {
        "id": "581y2CJykGXo"
      }
    },
    {
      "cell_type": "code",
      "execution_count": null,
      "metadata": {
        "colab": {
          "base_uri": "https://localhost:8080/"
        },
        "id": "esxgIOGtkBMP",
        "outputId": "c59b7dea-02f7-4c13-8070-de2626b03963"
      },
      "outputs": [
        {
          "output_type": "stream",
          "name": "stdout",
          "text": [
            "Requirement already satisfied: dwave-ocean-sdk in /usr/local/lib/python3.10/dist-packages (6.4.1)\n",
            "Requirement already satisfied: dimod==0.12.6 in /usr/local/lib/python3.10/dist-packages (from dwave-ocean-sdk) (0.12.6)\n",
            "Requirement already satisfied: dwave-cloud-client==0.10.6 in /usr/local/lib/python3.10/dist-packages (from dwave-ocean-sdk) (0.10.6)\n",
            "Requirement already satisfied: dwave-greedy==0.3.0 in /usr/local/lib/python3.10/dist-packages (from dwave-ocean-sdk) (0.3.0)\n",
            "Requirement already satisfied: dwave-hybrid==0.6.10 in /usr/local/lib/python3.10/dist-packages (from dwave-ocean-sdk) (0.6.10)\n",
            "Requirement already satisfied: dwave-inspector==0.4.2 in /usr/local/lib/python3.10/dist-packages (from dwave-ocean-sdk) (0.4.2)\n",
            "Requirement already satisfied: dwave-neal==0.6.0 in /usr/local/lib/python3.10/dist-packages (from dwave-ocean-sdk) (0.6.0)\n",
            "Requirement already satisfied: dwave-networkx==0.8.14 in /usr/local/lib/python3.10/dist-packages (from dwave-ocean-sdk) (0.8.14)\n",
            "Requirement already satisfied: dwave-preprocessing==0.5.4 in /usr/local/lib/python3.10/dist-packages (from dwave-ocean-sdk) (0.5.4)\n",
            "Requirement already satisfied: dwave-samplers==1.0.0 in /usr/local/lib/python3.10/dist-packages (from dwave-ocean-sdk) (1.0.0)\n",
            "Requirement already satisfied: dwave-system==1.19.0 in /usr/local/lib/python3.10/dist-packages (from dwave-ocean-sdk) (1.19.0)\n",
            "Requirement already satisfied: dwave-tabu==0.5.0 in /usr/local/lib/python3.10/dist-packages (from dwave-ocean-sdk) (0.5.0)\n",
            "Requirement already satisfied: dwavebinarycsp==0.2.0 in /usr/local/lib/python3.10/dist-packages (from dwave-ocean-sdk) (0.2.0)\n",
            "Requirement already satisfied: minorminer==0.2.11 in /usr/local/lib/python3.10/dist-packages (from dwave-ocean-sdk) (0.2.11)\n",
            "Requirement already satisfied: penaltymodel==1.0.2 in /usr/local/lib/python3.10/dist-packages (from dwave-ocean-sdk) (1.0.2)\n",
            "Requirement already satisfied: pyqubo==1.4.0 in /usr/local/lib/python3.10/dist-packages (from dwave-ocean-sdk) (1.4.0)\n",
            "Requirement already satisfied: numpy<2.0.0,>=1.17.3 in /usr/local/lib/python3.10/dist-packages (from dimod==0.12.6->dwave-ocean-sdk) (1.22.4)\n",
            "Requirement already satisfied: requests[socks]>=2.18 in /usr/local/lib/python3.10/dist-packages (from dwave-cloud-client==0.10.6->dwave-ocean-sdk) (2.27.1)\n",
            "Requirement already satisfied: pydantic<2,>=1.7.3 in /usr/local/lib/python3.10/dist-packages (from dwave-cloud-client==0.10.6->dwave-ocean-sdk) (1.10.12)\n",
            "Requirement already satisfied: homebase>=1.0 in /usr/local/lib/python3.10/dist-packages (from dwave-cloud-client==0.10.6->dwave-ocean-sdk) (1.0.1)\n",
            "Requirement already satisfied: click>=7.0 in /usr/local/lib/python3.10/dist-packages (from dwave-cloud-client==0.10.6->dwave-ocean-sdk) (8.1.6)\n",
            "Requirement already satisfied: python-dateutil>=2.7 in /usr/local/lib/python3.10/dist-packages (from dwave-cloud-client==0.10.6->dwave-ocean-sdk) (2.8.2)\n",
            "Requirement already satisfied: plucky>=0.4.3 in /usr/local/lib/python3.10/dist-packages (from dwave-cloud-client==0.10.6->dwave-ocean-sdk) (0.4.3)\n",
            "Requirement already satisfied: diskcache>=5.2.1 in /usr/local/lib/python3.10/dist-packages (from dwave-cloud-client==0.10.6->dwave-ocean-sdk) (5.6.1)\n",
            "Requirement already satisfied: packaging>=19 in /usr/local/lib/python3.10/dist-packages (from dwave-cloud-client==0.10.6->dwave-ocean-sdk) (23.1)\n",
            "Requirement already satisfied: werkzeug>=2.2 in /usr/local/lib/python3.10/dist-packages (from dwave-cloud-client==0.10.6->dwave-ocean-sdk) (2.3.6)\n",
            "Requirement already satisfied: networkx in /usr/local/lib/python3.10/dist-packages (from dwave-hybrid==0.6.10->dwave-ocean-sdk) (2.8.8)\n",
            "Requirement already satisfied: Flask>=2.2 in /usr/local/lib/python3.10/dist-packages (from dwave-inspector==0.4.2->dwave-ocean-sdk) (2.2.5)\n",
            "Requirement already satisfied: scipy>=1.7.3 in /usr/local/lib/python3.10/dist-packages (from dwave-system==1.19.0->dwave-ocean-sdk) (1.10.1)\n",
            "Requirement already satisfied: fasteners in /usr/local/lib/python3.10/dist-packages (from minorminer==0.2.11->dwave-ocean-sdk) (0.18)\n",
            "Requirement already satisfied: rectangle-packer>=2.0.1 in /usr/local/lib/python3.10/dist-packages (from minorminer==0.2.11->dwave-ocean-sdk) (2.0.1)\n",
            "Requirement already satisfied: Deprecated>=1.2.12 in /usr/local/lib/python3.10/dist-packages (from pyqubo==1.4.0->dwave-ocean-sdk) (1.2.14)\n",
            "Requirement already satisfied: six>=1.15.0 in /usr/local/lib/python3.10/dist-packages (from pyqubo==1.4.0->dwave-ocean-sdk) (1.16.0)\n",
            "Requirement already satisfied: wrapt<2,>=1.10 in /usr/local/lib/python3.10/dist-packages (from Deprecated>=1.2.12->pyqubo==1.4.0->dwave-ocean-sdk) (1.14.1)\n",
            "Requirement already satisfied: Jinja2>=3.0 in /usr/local/lib/python3.10/dist-packages (from Flask>=2.2->dwave-inspector==0.4.2->dwave-ocean-sdk) (3.1.2)\n",
            "Requirement already satisfied: itsdangerous>=2.0 in /usr/local/lib/python3.10/dist-packages (from Flask>=2.2->dwave-inspector==0.4.2->dwave-ocean-sdk) (2.1.2)\n",
            "Requirement already satisfied: typing-extensions>=4.2.0 in /usr/local/lib/python3.10/dist-packages (from pydantic<2,>=1.7.3->dwave-cloud-client==0.10.6->dwave-ocean-sdk) (4.7.1)\n",
            "Requirement already satisfied: urllib3<1.27,>=1.21.1 in /usr/local/lib/python3.10/dist-packages (from requests[socks]>=2.18->dwave-cloud-client==0.10.6->dwave-ocean-sdk) (1.26.16)\n",
            "Requirement already satisfied: certifi>=2017.4.17 in /usr/local/lib/python3.10/dist-packages (from requests[socks]>=2.18->dwave-cloud-client==0.10.6->dwave-ocean-sdk) (2023.7.22)\n",
            "Requirement already satisfied: charset-normalizer~=2.0.0 in /usr/local/lib/python3.10/dist-packages (from requests[socks]>=2.18->dwave-cloud-client==0.10.6->dwave-ocean-sdk) (2.0.12)\n",
            "Requirement already satisfied: idna<4,>=2.5 in /usr/local/lib/python3.10/dist-packages (from requests[socks]>=2.18->dwave-cloud-client==0.10.6->dwave-ocean-sdk) (3.4)\n",
            "Requirement already satisfied: PySocks!=1.5.7,>=1.5.6 in /usr/local/lib/python3.10/dist-packages (from requests[socks]>=2.18->dwave-cloud-client==0.10.6->dwave-ocean-sdk) (1.7.1)\n",
            "Requirement already satisfied: MarkupSafe>=2.1.1 in /usr/local/lib/python3.10/dist-packages (from werkzeug>=2.2->dwave-cloud-client==0.10.6->dwave-ocean-sdk) (2.1.3)\n",
            "Requirement already satisfied: gurobipy in /usr/local/lib/python3.10/dist-packages (10.0.2)\n"
          ]
        }
      ],
      "source": [
        "!pip install dwave-ocean-sdk\n",
        "!pip install gurobipy"
      ]
    },
    {
      "cell_type": "code",
      "source": [
        "import networkx as nx\n",
        "import random\n",
        "import numpy as np\n",
        "import matplotlib\n",
        "import matplotlib.pyplot as plt\n",
        "import copy\n",
        "from itertools import product\n",
        "import pyqubo\n",
        "from pyqubo import Binary, SubH\n",
        "\n",
        "import dimod\n",
        "import dwave\n",
        "import dwave.system\n",
        "import plotly.graph_objects as go\n",
        "import dwave.inspector\n",
        "import minorminer\n",
        "import dwave_networkx as dnx\n",
        "\n",
        "from dwave.embedding import pegasus\n",
        "from dwave.cloud import Client\n",
        "\n",
        "import gurobipy as gb\n",
        "from gurobipy import GRB"
      ],
      "metadata": {
        "id": "2jhN6kLRkKXn"
      },
      "execution_count": null,
      "outputs": []
    },
    {
      "cell_type": "code",
      "source": [
        "from google.colab import drive\n",
        "drive.mount('/content/drive')\n",
        "\n",
        "lic_path = '/content/drive/MyDrive/Uni/' #path to gurobi and D-Wave licenses\n",
        "\n",
        "with open(lic_path + 'gurobi.lic','r') as f:\n",
        "  lic = f.read()\n",
        "\n",
        "ls = lic.split('\\n')\n",
        "access_id = ls[3].split('=')[1]\n",
        "secret = ls[4].split('=')[1]\n",
        "id = int(ls[5].split('=')[1])\n",
        "\n",
        "params = {\n",
        "\"WLSACCESSID\": access_id,\n",
        "\"WLSSECRET\": secret,\n",
        "\"LICENSEID\": id,\n",
        "}\n",
        "env = gb.Env(params=params)\n",
        "\n",
        "client_qpu = Client.from_config(lic_path+'dwave.conf')"
      ],
      "metadata": {
        "colab": {
          "base_uri": "https://localhost:8080/"
        },
        "id": "Lz2HL6ihkNr5",
        "outputId": "a644ca8b-773d-48bf-cc00-5b211232885f"
      },
      "execution_count": null,
      "outputs": [
        {
          "output_type": "stream",
          "name": "stdout",
          "text": [
            "Drive already mounted at /content/drive; to attempt to forcibly remount, call drive.mount(\"/content/drive\", force_remount=True).\n",
            "Set parameter WLSAccessID\n",
            "Set parameter WLSSecret\n",
            "Set parameter LicenseID to value 2381296\n",
            "Academic license - for non-commercial use only - registered to andrea.ditrani@studenti.unipd.it\n"
          ]
        }
      ]
    },
    {
      "cell_type": "markdown",
      "source": [
        "# JSS\n",
        "\n"
      ],
      "metadata": {
        "id": "dSMqPZFHkUh-"
      }
    },
    {
      "cell_type": "code",
      "source": [
        "def generate_random_instance(n_machine, n_job, max_duration, timespan):\n",
        "\n",
        "  instance = {}\n",
        "  machine_list = list(range(n_machine))\n",
        "\n",
        "  for i in range(n_job):\n",
        "    random.shuffle(machine_list)\n",
        "    instance[i] = []\n",
        "    for j in range(n_machine):\n",
        "      instance[i].append((machine_list[j], random.randint(1,max_duration))) #machine, duration\n",
        "  instance['timespan'] = timespan\n",
        "\n",
        "  return instance"
      ],
      "metadata": {
        "id": "iFyCBM4KkcE5"
      },
      "execution_count": null,
      "outputs": []
    },
    {
      "cell_type": "code",
      "source": [
        "def gen_var_dict(instance):\n",
        "  var_dict = {}\n",
        "\n",
        "  n_machines = len(instance[0])\n",
        "  n_jobs = len(instance.keys())-1\n",
        "  timespan = instance['timespan']\n",
        "\n",
        "  for j in range(n_jobs):\n",
        "      for o in range(n_machines):\n",
        "        for t in range(timespan):\n",
        "          var_dict[(o,j,t)] = pyqubo.Binary(f'x_{o},{j},{t}') #o=order position, j=relative job, t=time\n",
        "  return var_dict"
      ],
      "metadata": {
        "id": "h-JqPlNDkivM"
      },
      "execution_count": null,
      "outputs": []
    },
    {
      "cell_type": "markdown",
      "source": [
        "## Constraints"
      ],
      "metadata": {
        "id": "lMq_BGMMkn9_"
      }
    },
    {
      "cell_type": "markdown",
      "source": [
        "This function generates the edges relative to the **START ONLY ONCE** constraint.\n",
        "\n",
        "The mathematical formulation of this constraint is:\n",
        "$$ \\sum_i(\\sum_t x_{i,t} -1)^2 $$\n",
        "\n",
        "And so we have an edge for every pair $x_{i,t}, x_{i,p}$ where $p \\neq t$\n",
        "\n",
        "This kind of edges are orange in the final plots"
      ],
      "metadata": {
        "id": "9wOThIkeCw7m"
      }
    },
    {
      "cell_type": "code",
      "source": [
        "def soo_cons(instance, var_dict):\n",
        "  tot = 0\n",
        "  n_machines = len(instance[0])\n",
        "  n_jobs = len(instance.keys())-1\n",
        "  timespan = instance['timespan']\n",
        "\n",
        "  for j in range(n_jobs): #relative job\n",
        "    for o in range(n_machines): #order position\n",
        "      part = 0\n",
        "      for t in range(timespan):\n",
        "        part += var_dict[o,j,t]\n",
        "      part = (part - 1)**2\n",
        "      tot += part\n",
        "  return tot"
      ],
      "metadata": {
        "id": "xQkMxNrFks7-"
      },
      "execution_count": null,
      "outputs": []
    },
    {
      "cell_type": "markdown",
      "source": [
        "This function generates the edges relative to the **OPERATION ORDER** constraint.\n",
        "\n",
        "The mathematical formulation of this constraint is:\n",
        "\n",
        "$$ \\sum_{ k_{n-1}<i<k_n \\atop t+p_i > t'}  x_{i,t}x_{i+1,t'}$$"
      ],
      "metadata": {
        "id": "uFA7Iop-Cy-d"
      }
    },
    {
      "cell_type": "code",
      "source": [
        "def oo_cons(instance, var_dict):\n",
        "  n_machines = len(instance[0])\n",
        "  n_jobs = len(instance.keys())-1\n",
        "  timespan = instance['timespan']\n",
        "\n",
        "  tot=0\n",
        "  for job in range(n_jobs):#relative job\n",
        "    for o in range(n_machines-1): #order position\n",
        "      task = instance[job][o]\n",
        "      p = task[1] #duration\n",
        "\n",
        "      for t in range(timespan):\n",
        "        t_max = min(t + p, timespan)\n",
        "        for t_p in range(t_max):\n",
        "\n",
        "          #m_p = task_p[0]\n",
        "\n",
        "          tot += var_dict[o,job,t]*var_dict[o+1,job,t_p]\n",
        "  return tot"
      ],
      "metadata": {
        "id": "sz1NpYyHlVfu"
      },
      "execution_count": null,
      "outputs": []
    },
    {
      "cell_type": "markdown",
      "source": [
        "This set of functions generates the edges relative to the **ONE AT TIME PER MACHINE** constraint.\n",
        "\n",
        "The mathematical formulation of this constraint is:\n",
        "$$\\sum_{(i,t,k,t')\\in R_m} x_{i,t}x_{k,t'} $$\n",
        "\n",
        "where $R_m = A_m \\cup B_m$\n",
        "\n",
        "And $A_m = \\{(i,t,k,t'): (i,k) \\in I_M \\times I_M, \\\\ \\qquad \\qquad i \\neq j,\\\\ \\qquad \\qquad 0\\leq t,\\\\ \\qquad \\qquad t'\\leq T,\\\\ \\qquad \\qquad 0<t'-t<p_i  \\}$\n",
        "\n",
        "where $I_M$ is the set of all tasks that need the machine M to run."
      ],
      "metadata": {
        "id": "RJvVJtXKC2_5"
      }
    },
    {
      "cell_type": "code",
      "source": [
        "def I_set(instance,m):\n",
        "    n_machines = len(instance[0])\n",
        "    n_jobs = len(instance.keys())-1\n",
        "    timespan = instance['timespan']\n",
        "\n",
        "    I_m = set()\n",
        "    for job in range(n_jobs):\n",
        "        for o,task in enumerate(instance[job]):\n",
        "            if task[0] == m:\n",
        "                I_m.add((o,job))\n",
        "\n",
        "    I_mx = set(product(I_m, repeat=2))\n",
        "\n",
        "    rm_list = []\n",
        "    for e in I_mx:\n",
        "        if e[0] == e[1]:\n",
        "            rm_list.append(e)\n",
        "    for r in rm_list:\n",
        "        I_mx.remove(r)\n",
        "\n",
        "    return I_mx"
      ],
      "metadata": {
        "id": "4s93HdAlocYB"
      },
      "execution_count": null,
      "outputs": []
    },
    {
      "cell_type": "code",
      "source": [
        "def A_set(instance, m):\n",
        "  n_machines = len(instance[0])\n",
        "  n_jobs = len(instance.keys())-1\n",
        "  timespan = instance['timespan']\n",
        "\n",
        "  I_mx = I_set(instance, m)\n",
        "\n",
        "  A_m = set()\n",
        "\n",
        "  for e in I_mx: #e = ((o1,j1),(o2,j2))\n",
        "\n",
        "    job = e[0][1]\n",
        "    for t in instance[job]:\n",
        "      if t[0] == m:\n",
        "        p = t[1] #duration task position i\n",
        "\n",
        "    for t in range(timespan):\n",
        "      for t_p in range(timespan):\n",
        "        if (0<t_p - t) and (t_p-t<p):\n",
        "          new_el = ((e[0][0], e[0][1], t), (e[1][0], e[1][1], t_p))\n",
        "          A_m.add(new_el)\n",
        "  return A_m"
      ],
      "metadata": {
        "id": "C0nNx_XyrWuO"
      },
      "execution_count": null,
      "outputs": []
    },
    {
      "cell_type": "code",
      "source": [
        "def B_set(instance, m):\n",
        "  n_machines = len(instance[0])\n",
        "  n_jobs = len(instance.keys())-1\n",
        "  timespan = instance['timespan']\n",
        "\n",
        "  I_mx = I_set(instance, m)\n",
        "\n",
        "  B_m = set()\n",
        "\n",
        "  for e in I_mx:\n",
        "    job_i = e[0][1]\n",
        "\n",
        "    for i,t in enumerate(instance[job_i]):\n",
        "      if t[0] == m:\n",
        "        p_i = t[1] #duration\n",
        "        o_i = i\n",
        "\n",
        "    job_j = e[0][1]\n",
        "\n",
        "    for i,t in enumerate(instance[job_i]):\n",
        "      if t[0] == m:\n",
        "        p_j = t[1] #duration\n",
        "        o_j = i\n",
        "\n",
        "\n",
        "    if p_j > 0 and p_i>0:\n",
        "      for t in range(timespan):\n",
        "        new_el = ((e[0][0], e[0][1], t), (e[1][0], e[1][1], t))\n",
        "        B_m.add(new_el)\n",
        "\n",
        "  return B_m"
      ],
      "metadata": {
        "id": "7FR9agpfu_6k"
      },
      "execution_count": null,
      "outputs": []
    },
    {
      "cell_type": "code",
      "source": [
        "def otm_cons(instance, var_dict):\n",
        "  n_machines = len(instance[0])\n",
        "  n_jobs = len(instance.keys())-1\n",
        "  timespan = instance['timespan']\n",
        "  edges = []\n",
        "  tot = 0\n",
        "  for m in range(n_machines):\n",
        "      R_m = A_set(instance, m).union(B_set(instance, m))\n",
        "      for e in R_m:\n",
        "        tot += var_dict[e[0]]*var_dict[e[1]]\n",
        "  return tot\n"
      ],
      "metadata": {
        "id": "nrgnD76Or_bj"
      },
      "execution_count": null,
      "outputs": []
    },
    {
      "cell_type": "markdown",
      "source": [
        "##Pruning"
      ],
      "metadata": {
        "id": "2irh9xeNDXHr"
      }
    },
    {
      "cell_type": "markdown",
      "source": [
        "Let $I_j$ be the set of indices of tasks that have to run on the machine $j$ then,\n",
        "if $a,b \\in I_j$ are such that:\n",
        "$$r_a+p_a+p_b+q_b>T$$\n",
        "where $r_i$ is the sum of the execution time of the tasks preceding $O_i$ and $q_i$ is similarly defined for the tasks that follows $O_i$, those values are called **head and tail** of the task.\n",
        "\n",
        "Then $O_a$ must be run after $O_b$ and we can update $r_a$ as:\n",
        "$$r_a = max\\{r_a,r_b+p_b\\}$$\n",
        "\n",
        "Thanks to the symmetry of the problem, similar updates can be performed to the tails."
      ],
      "metadata": {
        "id": "kZHXzS-TDWP4"
      }
    },
    {
      "cell_type": "code",
      "source": [
        "def simple_pruning(instance,var_dict):\n",
        "  n_machines = len(instance[0])\n",
        "  n_jobs = len(instance.keys())-1\n",
        "  timespan = instance['timespan']\n",
        "  ext_instance = copy.deepcopy(instance) #this extended instance will contain also the head and tail of each operation\n",
        "\n",
        "  #head and tail comp\n",
        "  for job in range(n_jobs):\n",
        "    for t_idx,task in enumerate(instance[job]):\n",
        "      p_task = task[1]\n",
        "      m_task = task[0]\n",
        "      #single job upperbound\n",
        "      tail = timespan\n",
        "      for i in range(t_idx, n_machines):\n",
        "        tail -= instance[job][i][1]\n",
        "\n",
        "      #single job lowerbuond\n",
        "      head = 0\n",
        "      for i in range(t_idx):\n",
        "        head += instance[job][i][1]\n",
        "\n",
        "      ext_instance[job][t_idx] += (head,tail)\n",
        "\n",
        "  tmp_instance = copy.deepcopy(ext_instance)\n",
        "  ext_instance = tmp_instance\n",
        "\n",
        "  #node removal\n",
        "  rm_nodes = []\n",
        "  for job in range(n_jobs):\n",
        "    for task in ext_instance[job]:\n",
        "      for node in var_dict:\n",
        "        if (node[0] == task[0]) and (node[1] == job) and ((node[2] < task[2] ) or (node[2] > task[3])):\n",
        "          var_dict[node] = 0\n",
        "\n",
        "  return var_dict, ext_instance"
      ],
      "metadata": {
        "id": "pKKZZrmxwo64"
      },
      "execution_count": null,
      "outputs": []
    },
    {
      "cell_type": "markdown",
      "source": [
        "## Timespan Discrimination"
      ],
      "metadata": {
        "id": "pZf6F0b9Xjix"
      }
    },
    {
      "cell_type": "code",
      "source": [
        "def timespan_dis(instance, var_dict, K=1, energy_array=[0.5]):\n",
        "  n_machines = len(instance[0])\n",
        "  n_jobs = len(instance.keys())-1\n",
        "  timespan = instance['timespan']\n",
        "\n",
        "  temp_dict = copy.copy(var_dict)\n",
        "\n",
        "  tot=0\n",
        "  for k in range(K):\n",
        "    for j in range(n_jobs):\n",
        "      found=False\n",
        "      for i in range(timespan):\n",
        "        triplet = (n_machines-1, j, timespan-k-i-1)                             #check the latest moment avaible for the start of the last operation,\n",
        "        if (triplet in temp_dict and                                            #avaible for the start of the last operation, needed in case of pruning\n",
        "            type(temp_dict[triplet]) is not int and\n",
        "            not found):\n",
        "          tot += energy_array[k]*temp_dict[n_machines-1, j, timespan-k-i-1]\n",
        "          found = True\n",
        "          temp_dict[triplet] = 0\n",
        "\n",
        "\n",
        "  return tot\n"
      ],
      "metadata": {
        "id": "6GQewEvJfWiu"
      },
      "execution_count": null,
      "outputs": []
    },
    {
      "cell_type": "code",
      "source": [
        "var_dict"
      ],
      "metadata": {
        "id": "nTGUQgfX4xfm"
      },
      "execution_count": null,
      "outputs": []
    },
    {
      "cell_type": "code",
      "source": [
        "timespan_dis(instance, var_dict, K=2, energy_array=[0.5,0.2])"
      ],
      "metadata": {
        "colab": {
          "base_uri": "https://localhost:8080/"
        },
        "id": "MGo7b82K2QzV",
        "outputId": "c57c5e2f-82e7-4595-8084-9834b9664392"
      },
      "execution_count": null,
      "outputs": [
        {
          "output_type": "execute_result",
          "data": {
            "text/plain": [
              "((0.200000 * Binary('x_2,1,8')) + (0.200000 * Binary('x_2,0,8')) + (0.500000 * Binary('x_2,1,9')) + 0.000000 + (0.500000 * Binary('x_2,0,9')))"
            ]
          },
          "metadata": {},
          "execution_count": 264
        }
      ]
    },
    {
      "cell_type": "markdown",
      "source": [
        "## Utils"
      ],
      "metadata": {
        "id": "g883I1l2DbN3"
      }
    },
    {
      "cell_type": "code",
      "source": [
        "def draw_solution(solution, instance):\n",
        "  cmap_nodes = matplotlib.colormaps.get_cmap('viridis')\n",
        "  color_array = np.zeros((1,4))\n",
        "  n_jobs = len(instance)-1\n",
        "\n",
        "  fig, ax = plt.subplots()\n",
        "\n",
        "  y_ticks = []\n",
        "  n_machines = len(instance[0])\n",
        "  timespan = instance['timespan']\n",
        "  for i in range(n_machines):\n",
        "    y_ticks.append(f'M {i}')\n",
        "\n",
        "  ax.set_yticks(range(n_machines), labels=y_ticks)\n",
        "  ax.set_xticks(range(timespan+2))\n",
        "  for i,var in enumerate(solution):\n",
        "    if solution[var] == 1:\n",
        "      spl = var.split('_')[1].split(',')\n",
        "      order = int(spl[0])\n",
        "      job = int(spl[1])\n",
        "      start = int(spl[2])\n",
        "      color_array[0] = cmap_nodes(job/n_jobs)\n",
        "\n",
        "      machine = instance[job][order][0]\n",
        "      duration = instance[job][order][1]\n",
        "\n",
        "      bar = ax.barh(machine, width=duration, left=start, color=color_array)\n",
        "      ax.bar_label(bar, label_type='center', labels=[f'J {job}, O {order}'])"
      ],
      "metadata": {
        "id": "0yzf8F_c07gN"
      },
      "execution_count": null,
      "outputs": []
    },
    {
      "cell_type": "markdown",
      "source": [
        "# Execution"
      ],
      "metadata": {
        "id": "42Dhw48sDeVc"
      }
    },
    {
      "cell_type": "markdown",
      "source": [
        "## Instance generation, Model construction"
      ],
      "metadata": {
        "id": "pYpodxqFFKNu"
      }
    },
    {
      "cell_type": "code",
      "source": [
        "# instance presented in Venturelli's work, here used for testing\n",
        "\n",
        "instance = {\n",
        "    0: [(0,2), (1,1), (2,1)],\n",
        "    1: [(2,2), (0,1), (1,2)],\n",
        "    2: [(1,1), (0,1), (2,2)],\n",
        "    'timespan': 6\n",
        "}\n",
        "\n",
        "var_dict = gen_var_dict(instance)"
      ],
      "metadata": {
        "id": "p6WQUeaSlCK6"
      },
      "execution_count": null,
      "outputs": []
    },
    {
      "cell_type": "code",
      "source": [
        "#generate random instance (machine, job, max duration, timespan)\n",
        "\n",
        "n_jobs = 2\n",
        "n_machines = 3\n",
        "max_duration = 2\n",
        "timespan = 10\n",
        "\n",
        "instance = generate_random_instance(n_machines, n_jobs, max_duration, timespan)"
      ],
      "metadata": {
        "id": "1g3Ye6Rh0i47"
      },
      "execution_count": null,
      "outputs": []
    },
    {
      "cell_type": "code",
      "source": [
        "instance['timespan'] = 6"
      ],
      "metadata": {
        "id": "zUuub7xYKoYK"
      },
      "execution_count": null,
      "outputs": []
    },
    {
      "cell_type": "code",
      "source": [
        "#pruning\n",
        "\n",
        "var_dict = gen_var_dict(instance)\n",
        "#var_dict, ext_instance = simple_pruning(instance, var_dict)"
      ],
      "metadata": {
        "id": "aMW0sGGE12-Y"
      },
      "execution_count": null,
      "outputs": []
    },
    {
      "cell_type": "code",
      "source": [
        "#build the model\n",
        "\n",
        "#add constraints, separating the full hamiltonian in smaller sub-hamiltonians\n",
        "#helps identifing wich constraint gets violated in case of non feasible solutions\n",
        "H = SubH(otm_cons(instance, var_dict), 'otm_cons')\n",
        "H += SubH(soo_cons(instance, var_dict), 'soo_cons')\n",
        "H += SubH(oo_cons(instance, var_dict), 'oo_cons')\n",
        "H += SubH(timespan_dis(instance, var_dict, K=5, energy_array=[0.5,0.4,0.3,0.2,0.1]), 'time_discrimination')\n",
        "model = H.compile()\n",
        "\n",
        "#generate bqm\n",
        "\n",
        "bqm = model.to_bqm()"
      ],
      "metadata": {
        "id": "HhWg5dsyvYL0"
      },
      "execution_count": null,
      "outputs": []
    },
    {
      "cell_type": "markdown",
      "source": [
        "## QPU solving"
      ],
      "metadata": {
        "id": "ULQPGysAFWYP"
      }
    },
    {
      "cell_type": "code",
      "source": [
        "#sample on QPU and standard embedding\n",
        "\n",
        "dw = dwave.system.DWaveSampler(token=client_qpu.token, solver={'topology__type': 'pegasus'})\n",
        "sampler = dwave.system.EmbeddingComposite(dw)\n",
        "\n",
        "sampleset = sampler.sample(bqm,\n",
        "      answer_mode=\"raw\",\n",
        "      num_reads=4500,\n",
        "      annealing_time=40)"
      ],
      "metadata": {
        "id": "JWPumCgg4Vg2"
      },
      "execution_count": null,
      "outputs": []
    },
    {
      "cell_type": "code",
      "source": [
        "#check energy of the best sample\n",
        "\n",
        "round(sampleset.first.energy,2)"
      ],
      "metadata": {
        "colab": {
          "base_uri": "https://localhost:8080/"
        },
        "id": "JGE8wrPOvqjg",
        "outputId": "1a162ea3-aeb5-4344-e90a-5f405b79c7d0"
      },
      "execution_count": null,
      "outputs": [
        {
          "output_type": "execute_result",
          "data": {
            "text/plain": [
              "0.4"
            ]
          },
          "metadata": {},
          "execution_count": 262
        }
      ]
    },
    {
      "cell_type": "markdown",
      "source": [
        "## Visualization"
      ],
      "metadata": {
        "id": "M6cY3xJDFf3a"
      }
    },
    {
      "cell_type": "markdown",
      "source": [
        "### Single solution"
      ],
      "metadata": {
        "id": "Moou7X2CFjF6"
      }
    },
    {
      "cell_type": "code",
      "source": [
        "#draw solution\n",
        "\n",
        "solution = sampleset.first.sample\n",
        "draw_solution(solution, instance)"
      ],
      "metadata": {
        "colab": {
          "base_uri": "https://localhost:8080/",
          "height": 430
        },
        "id": "piNWnTR408Nf",
        "outputId": "3a918974-2546-441f-8693-a67abedd3732"
      },
      "execution_count": null,
      "outputs": [
        {
          "output_type": "display_data",
          "data": {
            "text/plain": [
              "<Figure size 640x480 with 1 Axes>"
            ],
            "image/png": "[encoded data removed]"
          },
          "metadata": {}
        }
      ]
    },
    {
      "cell_type": "code",
      "source": [
        "decoded = model.decode_sample(solution, vartype='BINARY')"
      ],
      "metadata": {
        "id": "LRoi4FujMBpB"
      },
      "execution_count": null,
      "outputs": []
    },
    {
      "cell_type": "code",
      "source": [
        "#check wich constraint gets violated ('time_discrimination' is not a proper  constraint,\n",
        "#it is a penalty added to longer makespans)\n",
        "\n",
        "decoded.subh"
      ],
      "metadata": {
        "colab": {
          "base_uri": "https://localhost:8080/"
        },
        "id": "BB1uXxwYMZbF",
        "outputId": "4d3ac9b3-9edb-4c17-95ff-cc844795569f"
      },
      "execution_count": null,
      "outputs": [
        {
          "output_type": "execute_result",
          "data": {
            "text/plain": [
              "{'otm_cons': 0.0, 'time_discrimination': 0.1, 'oo_cons': 0.0, 'soo_cons': 0.0}"
            ]
          },
          "metadata": {},
          "execution_count": 245
        }
      ]
    }
  ]
}
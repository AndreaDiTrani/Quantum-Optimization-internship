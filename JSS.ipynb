{
  "nbformat": 4,
  "nbformat_minor": 0,
  "metadata": {
    "colab": {
      "provenance": [],
      "collapsed_sections": [
        "581y2CJykGXo"
      ],
      "authorship_tag": "ABX9TyNttOyGNf1e1CIRmQZ9SGNl",
      "include_colab_link": true
    },
    "kernelspec": {
      "name": "python3",
      "display_name": "Python 3"
    },
    "language_info": {
      "name": "python"
    }
  },
  "cells": [
    {
      "cell_type": "markdown",
      "metadata": {
        "id": "view-in-github",
        "colab_type": "text"
      },
      "source": [
        "<a href=\"https://colab.research.google.com/github/AndreaDiTrani/Quantum-Optimization-internship/blob/main/JSS.ipynb\" target=\"_parent\"><img src=\"https://colab.research.google.com/assets/colab-badge.svg\" alt=\"Open In Colab\"/></a>"
      ]
    },
    {
      "cell_type": "markdown",
      "source": [
        "In this notebook i tackle the JSS problem from start to finish via quantum annealing.\n",
        "\n",
        "At the moment the workflow is:\n",
        "\n",
        "\n",
        "\n",
        "*   Instance generation\n",
        "*   QUBO fomrulation with timespan discrimination\n",
        "*   Pruning\n",
        "*   Default embedding and compilation\n",
        "*   Problem solution using quantum annealing on QPU\n",
        "*   Solution visualization\n",
        "\n",
        "Next steps are:\n",
        "\n",
        "*   Fault tolerant IP embedding\n",
        "*   Data collection for problems pre-characterization\n",
        "*   Graph visualization\n",
        "\n"
      ],
      "metadata": {
        "id": "GIvJ8UEWefRN"
      }
    },
    {
      "cell_type": "markdown",
      "source": [
        "#IMPORTS"
      ],
      "metadata": {
        "id": "581y2CJykGXo"
      }
    },
    {
      "cell_type": "code",
      "execution_count": 1,
      "metadata": {
        "colab": {
          "base_uri": "https://localhost:8080/"
        },
        "id": "esxgIOGtkBMP",
        "outputId": "23f6866b-d8f1-4cb8-8270-5f87506c30ae"
      },
      "outputs": [
        {
          "output_type": "stream",
          "name": "stdout",
          "text": [
            "Collecting dwave-ocean-sdk\n",
            "  Downloading dwave_ocean_sdk-6.4.1-py3-none-any.whl (8.5 kB)\n",
            "Collecting dimod==0.12.6 (from dwave-ocean-sdk)\n",
            "  Downloading dimod-0.12.6-cp310-cp310-manylinux_2_17_x86_64.manylinux2014_x86_64.whl (15.6 MB)\n",
            "\u001b[2K     \u001b[90m━━━━━━━━━━━━━━━━━━━━━━━━━━━━━━━━━━━━━━━━\u001b[0m \u001b[32m15.6/15.6 MB\u001b[0m \u001b[31m31.0 MB/s\u001b[0m eta \u001b[36m0:00:00\u001b[0m\n",
            "\u001b[?25hCollecting dwave-cloud-client==0.10.6 (from dwave-ocean-sdk)\n",
            "  Downloading dwave_cloud_client-0.10.6-py3-none-any.whl (113 kB)\n",
            "\u001b[2K     \u001b[90m━━━━━━━━━━━━━━━━━━━━━━━━━━━━━━━━━━━━━━━\u001b[0m \u001b[32m113.4/113.4 kB\u001b[0m \u001b[31m8.6 MB/s\u001b[0m eta \u001b[36m0:00:00\u001b[0m\n",
            "\u001b[?25hCollecting dwave-greedy==0.3.0 (from dwave-ocean-sdk)\n",
            "  Downloading dwave_greedy-0.3.0-py3-none-any.whl (10 kB)\n",
            "Collecting dwave-hybrid==0.6.10 (from dwave-ocean-sdk)\n",
            "  Downloading dwave_hybrid-0.6.10-py3-none-any.whl (74 kB)\n",
            "\u001b[2K     \u001b[90m━━━━━━━━━━━━━━━━━━━━━━━━━━━━━━━━━━━━━━━━\u001b[0m \u001b[32m74.8/74.8 kB\u001b[0m \u001b[31m6.1 MB/s\u001b[0m eta \u001b[36m0:00:00\u001b[0m\n",
            "\u001b[?25hCollecting dwave-inspector==0.4.2 (from dwave-ocean-sdk)\n",
            "  Downloading dwave_inspector-0.4.2-py3-none-any.whl (31 kB)\n",
            "Collecting dwave-neal==0.6.0 (from dwave-ocean-sdk)\n",
            "  Downloading dwave_neal-0.6.0-py3-none-any.whl (8.7 kB)\n",
            "Collecting dwave-networkx==0.8.14 (from dwave-ocean-sdk)\n",
            "  Downloading dwave_networkx-0.8.14-py3-none-any.whl (102 kB)\n",
            "\u001b[2K     \u001b[90m━━━━━━━━━━━━━━━━━━━━━━━━━━━━━━━━━━━━━━━\u001b[0m \u001b[32m102.4/102.4 kB\u001b[0m \u001b[31m7.2 MB/s\u001b[0m eta \u001b[36m0:00:00\u001b[0m\n",
            "\u001b[?25hCollecting dwave-preprocessing==0.5.4 (from dwave-ocean-sdk)\n",
            "  Downloading dwave_preprocessing-0.5.4-cp310-cp310-manylinux_2_17_x86_64.manylinux2014_x86_64.whl (3.6 MB)\n",
            "\u001b[2K     \u001b[90m━━━━━━━━━━━━━━━━━━━━━━━━━━━━━━━━━━━━━━━━\u001b[0m \u001b[32m3.6/3.6 MB\u001b[0m \u001b[31m47.0 MB/s\u001b[0m eta \u001b[36m0:00:00\u001b[0m\n",
            "\u001b[?25hCollecting dwave-samplers==1.0.0 (from dwave-ocean-sdk)\n",
            "  Downloading dwave_samplers-1.0.0-cp310-cp310-manylinux_2_17_x86_64.manylinux2014_x86_64.whl (6.0 MB)\n",
            "\u001b[2K     \u001b[90m━━━━━━━━━━━━━━━━━━━━━━━━━━━━━━━━━━━━━━━━\u001b[0m \u001b[32m6.0/6.0 MB\u001b[0m \u001b[31m24.3 MB/s\u001b[0m eta \u001b[36m0:00:00\u001b[0m\n",
            "\u001b[?25hCollecting dwave-system==1.19.0 (from dwave-ocean-sdk)\n",
            "  Downloading dwave_system-1.19.0-py3-none-any.whl (103 kB)\n",
            "\u001b[2K     \u001b[90m━━━━━━━━━━━━━━━━━━━━━━━━━━━━━━━━━━━━━━━\u001b[0m \u001b[32m103.2/103.2 kB\u001b[0m \u001b[31m6.3 MB/s\u001b[0m eta \u001b[36m0:00:00\u001b[0m\n",
            "\u001b[?25hCollecting dwave-tabu==0.5.0 (from dwave-ocean-sdk)\n",
            "  Downloading dwave_tabu-0.5.0-py3-none-any.whl (9.2 kB)\n",
            "Collecting dwavebinarycsp==0.2.0 (from dwave-ocean-sdk)\n",
            "  Downloading dwavebinarycsp-0.2.0-py3-none-any.whl (35 kB)\n",
            "Collecting minorminer==0.2.11 (from dwave-ocean-sdk)\n",
            "  Downloading minorminer-0.2.11-cp310-cp310-manylinux_2_17_x86_64.manylinux2014_x86_64.whl (10.1 MB)\n",
            "\u001b[2K     \u001b[90m━━━━━━━━━━━━━━━━━━━━━━━━━━━━━━━━━━━━━━━━\u001b[0m \u001b[32m10.1/10.1 MB\u001b[0m \u001b[31m24.3 MB/s\u001b[0m eta \u001b[36m0:00:00\u001b[0m\n",
            "\u001b[?25hCollecting penaltymodel==1.0.2 (from dwave-ocean-sdk)\n",
            "  Downloading penaltymodel-1.0.2-py3-none-any.whl (36 kB)\n",
            "Collecting pyqubo==1.4.0 (from dwave-ocean-sdk)\n",
            "  Downloading pyqubo-1.4.0-cp310-cp310-manylinux_2_17_x86_64.manylinux2014_x86_64.whl (245 kB)\n",
            "\u001b[2K     \u001b[90m━━━━━━━━━━━━━━━━━━━━━━━━━━━━━━━━━━━━━━\u001b[0m \u001b[32m245.3/245.3 kB\u001b[0m \u001b[31m12.3 MB/s\u001b[0m eta \u001b[36m0:00:00\u001b[0m\n",
            "\u001b[?25hRequirement already satisfied: numpy<2.0.0,>=1.17.3 in /usr/local/lib/python3.10/dist-packages (from dimod==0.12.6->dwave-ocean-sdk) (1.22.4)\n",
            "Requirement already satisfied: requests[socks]>=2.18 in /usr/local/lib/python3.10/dist-packages (from dwave-cloud-client==0.10.6->dwave-ocean-sdk) (2.27.1)\n",
            "Requirement already satisfied: pydantic<2,>=1.7.3 in /usr/local/lib/python3.10/dist-packages (from dwave-cloud-client==0.10.6->dwave-ocean-sdk) (1.10.12)\n",
            "Collecting homebase>=1.0 (from dwave-cloud-client==0.10.6->dwave-ocean-sdk)\n",
            "  Downloading homebase-1.0.1-py2.py3-none-any.whl (11 kB)\n",
            "Requirement already satisfied: click>=7.0 in /usr/local/lib/python3.10/dist-packages (from dwave-cloud-client==0.10.6->dwave-ocean-sdk) (8.1.6)\n",
            "Requirement already satisfied: python-dateutil>=2.7 in /usr/local/lib/python3.10/dist-packages (from dwave-cloud-client==0.10.6->dwave-ocean-sdk) (2.8.2)\n",
            "Collecting plucky>=0.4.3 (from dwave-cloud-client==0.10.6->dwave-ocean-sdk)\n",
            "  Downloading plucky-0.4.3-py2.py3-none-any.whl (10 kB)\n",
            "Collecting diskcache>=5.2.1 (from dwave-cloud-client==0.10.6->dwave-ocean-sdk)\n",
            "  Downloading diskcache-5.6.1-py3-none-any.whl (45 kB)\n",
            "\u001b[2K     \u001b[90m━━━━━━━━━━━━━━━━━━━━━━━━━━━━━━━━━━━━━━━━\u001b[0m \u001b[32m45.6/45.6 kB\u001b[0m \u001b[31m1.6 MB/s\u001b[0m eta \u001b[36m0:00:00\u001b[0m\n",
            "\u001b[?25hRequirement already satisfied: packaging>=19 in /usr/local/lib/python3.10/dist-packages (from dwave-cloud-client==0.10.6->dwave-ocean-sdk) (23.1)\n",
            "Requirement already satisfied: werkzeug>=2.2 in /usr/local/lib/python3.10/dist-packages (from dwave-cloud-client==0.10.6->dwave-ocean-sdk) (2.3.6)\n",
            "Requirement already satisfied: networkx in /usr/local/lib/python3.10/dist-packages (from dwave-hybrid==0.6.10->dwave-ocean-sdk) (3.1)\n",
            "Requirement already satisfied: Flask>=2.2 in /usr/local/lib/python3.10/dist-packages (from dwave-inspector==0.4.2->dwave-ocean-sdk) (2.2.5)\n",
            "Collecting networkx (from dwave-hybrid==0.6.10->dwave-ocean-sdk)\n",
            "  Downloading networkx-2.8.8-py3-none-any.whl (2.0 MB)\n",
            "\u001b[2K     \u001b[90m━━━━━━━━━━━━━━━━━━━━━━━━━━━━━━━━━━━━━━━━\u001b[0m \u001b[32m2.0/2.0 MB\u001b[0m \u001b[31m23.3 MB/s\u001b[0m eta \u001b[36m0:00:00\u001b[0m\n",
            "\u001b[?25hRequirement already satisfied: scipy>=1.7.3 in /usr/local/lib/python3.10/dist-packages (from dwave-system==1.19.0->dwave-ocean-sdk) (1.10.1)\n",
            "Collecting fasteners (from minorminer==0.2.11->dwave-ocean-sdk)\n",
            "  Downloading fasteners-0.18-py3-none-any.whl (18 kB)\n",
            "Collecting rectangle-packer>=2.0.1 (from minorminer==0.2.11->dwave-ocean-sdk)\n",
            "  Downloading rectangle_packer-2.0.1-cp310-cp310-manylinux_2_5_x86_64.manylinux1_x86_64.manylinux_2_17_x86_64.manylinux2014_x86_64.whl (300 kB)\n",
            "\u001b[2K     \u001b[90m━━━━━━━━━━━━━━━━━━━━━━━━━━━━━━━━━━━━━━━\u001b[0m \u001b[32m300.8/300.8 kB\u001b[0m \u001b[31m7.1 MB/s\u001b[0m eta \u001b[36m0:00:00\u001b[0m\n",
            "\u001b[?25hCollecting Deprecated>=1.2.12 (from pyqubo==1.4.0->dwave-ocean-sdk)\n",
            "  Downloading Deprecated-1.2.14-py2.py3-none-any.whl (9.6 kB)\n",
            "Requirement already satisfied: six>=1.15.0 in /usr/local/lib/python3.10/dist-packages (from pyqubo==1.4.0->dwave-ocean-sdk) (1.16.0)\n",
            "Requirement already satisfied: wrapt<2,>=1.10 in /usr/local/lib/python3.10/dist-packages (from Deprecated>=1.2.12->pyqubo==1.4.0->dwave-ocean-sdk) (1.14.1)\n",
            "Requirement already satisfied: Jinja2>=3.0 in /usr/local/lib/python3.10/dist-packages (from Flask>=2.2->dwave-inspector==0.4.2->dwave-ocean-sdk) (3.1.2)\n",
            "Requirement already satisfied: itsdangerous>=2.0 in /usr/local/lib/python3.10/dist-packages (from Flask>=2.2->dwave-inspector==0.4.2->dwave-ocean-sdk) (2.1.2)\n",
            "Requirement already satisfied: typing-extensions>=4.2.0 in /usr/local/lib/python3.10/dist-packages (from pydantic<2,>=1.7.3->dwave-cloud-client==0.10.6->dwave-ocean-sdk) (4.7.1)\n",
            "Requirement already satisfied: urllib3<1.27,>=1.21.1 in /usr/local/lib/python3.10/dist-packages (from requests[socks]>=2.18->dwave-cloud-client==0.10.6->dwave-ocean-sdk) (1.26.16)\n",
            "Requirement already satisfied: certifi>=2017.4.17 in /usr/local/lib/python3.10/dist-packages (from requests[socks]>=2.18->dwave-cloud-client==0.10.6->dwave-ocean-sdk) (2023.7.22)\n",
            "Requirement already satisfied: charset-normalizer~=2.0.0 in /usr/local/lib/python3.10/dist-packages (from requests[socks]>=2.18->dwave-cloud-client==0.10.6->dwave-ocean-sdk) (2.0.12)\n",
            "Requirement already satisfied: idna<4,>=2.5 in /usr/local/lib/python3.10/dist-packages (from requests[socks]>=2.18->dwave-cloud-client==0.10.6->dwave-ocean-sdk) (3.4)\n",
            "Requirement already satisfied: PySocks!=1.5.7,>=1.5.6 in /usr/local/lib/python3.10/dist-packages (from requests[socks]>=2.18->dwave-cloud-client==0.10.6->dwave-ocean-sdk) (1.7.1)\n",
            "Requirement already satisfied: MarkupSafe>=2.1.1 in /usr/local/lib/python3.10/dist-packages (from werkzeug>=2.2->dwave-cloud-client==0.10.6->dwave-ocean-sdk) (2.1.3)\n",
            "Installing collected packages: rectangle-packer, plucky, homebase, networkx, fasteners, diskcache, dimod, Deprecated, penaltymodel, dwave-samplers, dwave-preprocessing, dwave-networkx, minorminer, dwavebinarycsp, dwave-tabu, dwave-neal, dwave-greedy, dwave-cloud-client, pyqubo, dwave-system, dwave-inspector, dwave-hybrid, dwave-ocean-sdk\n",
            "  Attempting uninstall: networkx\n",
            "    Found existing installation: networkx 3.1\n",
            "    Uninstalling networkx-3.1:\n",
            "      Successfully uninstalled networkx-3.1\n",
            "Successfully installed Deprecated-1.2.14 dimod-0.12.6 diskcache-5.6.1 dwave-cloud-client-0.10.6 dwave-greedy-0.3.0 dwave-hybrid-0.6.10 dwave-inspector-0.4.2 dwave-neal-0.6.0 dwave-networkx-0.8.14 dwave-ocean-sdk-6.4.1 dwave-preprocessing-0.5.4 dwave-samplers-1.0.0 dwave-system-1.19.0 dwave-tabu-0.5.0 dwavebinarycsp-0.2.0 fasteners-0.18 homebase-1.0.1 minorminer-0.2.11 networkx-2.8.8 penaltymodel-1.0.2 plucky-0.4.3 pyqubo-1.4.0 rectangle-packer-2.0.1\n",
            "Collecting gurobipy\n",
            "  Downloading gurobipy-10.0.2-cp310-cp310-manylinux2014_x86_64.whl (12.7 MB)\n",
            "\u001b[2K     \u001b[90m━━━━━━━━━━━━━━━━━━━━━━━━━━━━━━━━━━━━━━━━\u001b[0m \u001b[32m12.7/12.7 MB\u001b[0m \u001b[31m25.9 MB/s\u001b[0m eta \u001b[36m0:00:00\u001b[0m\n",
            "\u001b[?25hInstalling collected packages: gurobipy\n",
            "Successfully installed gurobipy-10.0.2\n",
            "Requirement already satisfied: pyqubo in /usr/local/lib/python3.10/dist-packages (1.4.0)\n",
            "Requirement already satisfied: numpy>=1.17.3 in /usr/local/lib/python3.10/dist-packages (from pyqubo) (1.22.4)\n",
            "Requirement already satisfied: dimod<0.13,>=0.9.14 in /usr/local/lib/python3.10/dist-packages (from pyqubo) (0.12.6)\n",
            "Requirement already satisfied: dwave-neal>=0.5.7 in /usr/local/lib/python3.10/dist-packages (from pyqubo) (0.6.0)\n",
            "Requirement already satisfied: Deprecated>=1.2.12 in /usr/local/lib/python3.10/dist-packages (from pyqubo) (1.2.14)\n",
            "Requirement already satisfied: six>=1.15.0 in /usr/local/lib/python3.10/dist-packages (from pyqubo) (1.16.0)\n",
            "Requirement already satisfied: wrapt<2,>=1.10 in /usr/local/lib/python3.10/dist-packages (from Deprecated>=1.2.12->pyqubo) (1.14.1)\n",
            "Requirement already satisfied: dwave-samplers<2.0.0,>=1.0.0 in /usr/local/lib/python3.10/dist-packages (from dwave-neal>=0.5.7->pyqubo) (1.0.0)\n",
            "Requirement already satisfied: networkx>=2.4.0 in /usr/local/lib/python3.10/dist-packages (from dwave-samplers<2.0.0,>=1.0.0->dwave-neal>=0.5.7->pyqubo) (2.8.8)\n"
          ]
        }
      ],
      "source": [
        "!pip install dwave-ocean-sdk\n",
        "!pip install gurobipy\n",
        "!pip install pyqubo"
      ]
    },
    {
      "cell_type": "code",
      "source": [
        "import networkx as nx\n",
        "import random\n",
        "import numpy as np\n",
        "import matplotlib\n",
        "import matplotlib.pyplot as plt\n",
        "import copy\n",
        "from itertools import product\n",
        "import pyqubo\n",
        "from pyqubo import Binary, SubH\n",
        "\n",
        "import dimod\n",
        "import dwave\n",
        "import dwave.system\n",
        "import plotly.graph_objects as go\n",
        "import dwave.inspector\n",
        "import minorminer\n",
        "import dwave_networkx as dnx\n",
        "import neal\n",
        "\n",
        "from dwave.embedding import pegasus\n",
        "from dwave.cloud import Client\n",
        "\n",
        "import gurobipy as gb\n",
        "from gurobipy import GRB"
      ],
      "metadata": {
        "id": "2jhN6kLRkKXn"
      },
      "execution_count": 253,
      "outputs": []
    },
    {
      "cell_type": "code",
      "source": [
        "from google.colab import drive\n",
        "drive.mount('/content/drive')\n",
        "\n",
        "lic_path = '/content/drive/MyDrive/Uni/' #path to gurobi and D-Wave licenses\n",
        "\n",
        "with open(lic_path + 'gurobi.lic','r') as f:\n",
        "  lic = f.read()\n",
        "\n",
        "ls = lic.split('\\n')\n",
        "access_id = ls[3].split('=')[1]\n",
        "secret = ls[4].split('=')[1]\n",
        "id = int(ls[5].split('=')[1])\n",
        "\n",
        "params = {\n",
        "\"WLSACCESSID\": access_id,\n",
        "\"WLSSECRET\": secret,\n",
        "\"LICENSEID\": id,\n",
        "}\n",
        "env = gb.Env(params=params)\n",
        "\n",
        "client_qpu = Client.from_config(lic_path+'dwave.conf')"
      ],
      "metadata": {
        "colab": {
          "base_uri": "https://localhost:8080/"
        },
        "id": "Lz2HL6ihkNr5",
        "outputId": "affabfa5-cac4-47ff-95d4-baa7821b07fd"
      },
      "execution_count": 3,
      "outputs": [
        {
          "output_type": "stream",
          "name": "stdout",
          "text": [
            "Mounted at /content/drive\n",
            "Set parameter WLSAccessID\n",
            "Set parameter WLSSecret\n",
            "Set parameter LicenseID to value 2381296\n",
            "Academic license - for non-commercial use only - registered to andrea.ditrani@studenti.unipd.it\n"
          ]
        }
      ]
    },
    {
      "cell_type": "markdown",
      "source": [
        "# JSS\n",
        "\n"
      ],
      "metadata": {
        "id": "dSMqPZFHkUh-"
      }
    },
    {
      "cell_type": "code",
      "source": [
        "def generate_random_instance(n_machine, n_job, max_duration, timespan):\n",
        "\n",
        "  instance = {}\n",
        "  machine_list = list(range(n_machine))\n",
        "\n",
        "  for i in range(n_job):\n",
        "    random.shuffle(machine_list)\n",
        "    instance[i] = []\n",
        "    for j in range(n_machine):\n",
        "      instance[i].append((machine_list[j], random.randint(1,max_duration))) #machine, duration\n",
        "  instance['timespan'] = timespan\n",
        "\n",
        "  return instance"
      ],
      "metadata": {
        "id": "iFyCBM4KkcE5"
      },
      "execution_count": null,
      "outputs": []
    },
    {
      "cell_type": "markdown",
      "source": [
        "## Disjunctive Formulation (ILP)"
      ],
      "metadata": {
        "id": "UMflXl23UwEB"
      }
    },
    {
      "cell_type": "code",
      "source": [
        "def ilp_var_dict(instance, model):\n",
        "  dec_dict = {}\n",
        "  bin_dict = {}\n",
        "  slack_dict = {}\n",
        "\n",
        "  n_machines = len(instance[0])\n",
        "  n_jobs = len(instance.keys())-1\n",
        "\n",
        "  V = 0\n",
        "  for j in range(n_jobs):\n",
        "    for o in range(n_machines):\n",
        "      V += instance[j][o][1]\n",
        "\n",
        "  instance['timespan'] = V\n",
        "\n",
        "  for j in range(n_jobs):\n",
        "    for m in range(n_machines):\n",
        "      dec_dict[j,m] = model.addVar(vtype=GRB.INTEGER, name=f'x_{j},{m}')\n",
        "\n",
        "      #slack variable generation\n",
        "      s_idx = len(slack_dict)\n",
        "      slack_dict[s_idx] = model.addVar(vtype=GRB.INTEGER, name=f's_{s_idx}')\n",
        "      #model.addConstr(slack_dict[s_idx] <= V, f'slack_{s_idx}')\n",
        "\n",
        "      model.addConstr(dec_dict[j,m] - slack_dict[s_idx] == 0, f'sign_{j},{m}')\n",
        "\n",
        "      for k in range(n_jobs):\n",
        "        bin_dict[j,k,m] = model.addVar(vtype=GRB.BINARY, name=f'z_{m},{j},{k}')\n",
        "\n",
        "  return dec_dict, bin_dict, slack_dict"
      ],
      "metadata": {
        "id": "8pE1xoI5DYsz"
      },
      "execution_count": null,
      "outputs": []
    },
    {
      "cell_type": "code",
      "source": [
        "def prec_const(instance, model, dec_dict, slack_dict):\n",
        "  n_machines = len(instance[0])\n",
        "  n_jobs = len(instance.keys())-1\n",
        "\n",
        "  for j in range(n_jobs):\n",
        "    for o in range(1,n_machines):\n",
        "\n",
        "      m_o = instance[j][o][0] #machine of the o-th operation\n",
        "      m_o_1 = instance[j][o-1][0] #machine of the (o-1)-th operation\n",
        "\n",
        "      p_o_1 = instance[j][o-1][1] #duration of the (o-1)-th operation\n",
        "\n",
        "      s_idx = len(slack_dict)\n",
        "      slack_dict[s_idx] = model.addVar(vtype=GRB.INTEGER, name=f's_{s_idx}')\n",
        "\n",
        "      model.addConstr(dec_dict[j,m_o] - dec_dict[j,m_o_1]  - slack_dict[s_idx] == p_o_1, f'prec_{j},{m_o},{m_o_1}')"
      ],
      "metadata": {
        "id": "V3A5d-dGWjSk"
      },
      "execution_count": null,
      "outputs": []
    },
    {
      "cell_type": "code",
      "source": [
        "def disj_const(instance, model, dec_dict, bin_dict, slack_dict):\n",
        "  n_machines = len(instance[0])\n",
        "  n_jobs = len(instance.keys())-1\n",
        "  V = instance['timespan']\n",
        "\n",
        "  for j in range(n_jobs):\n",
        "    for k in range(j+1, n_jobs):\n",
        "      for m in range(n_machines):\n",
        "\n",
        "        #search for tasks durations\n",
        "        for i in range(n_machines):\n",
        "          if instance[j][i][0] == m:\n",
        "            p_j = instance[j][i][1]\n",
        "          elif instance[k][i][0] == m:\n",
        "            p_k = instance[k][i][1]\n",
        "\n",
        "        s_idx = len(slack_dict)\n",
        "        slack_dict[s_idx] = model.addVar(vtype=GRB.INTEGER, name=f's_{s_idx}')\n",
        "\n",
        "        model.addConstr(dec_dict[j,m] - dec_dict[k,m] + V*bin_dict[j,k,m] - p_k - slack_dict[s_idx] == 0, f'disj_1_{j},{k},{m}')\n",
        "\n",
        "        s_idx = len(slack_dict)\n",
        "        slack_dict[s_idx] = model.addVar(vtype=GRB.INTEGER, name=f's_{s_idx}')\n",
        "\n",
        "        model.addConstr(dec_dict[k,m] - dec_dict[j,m] + V*(1-bin_dict[j,k,m]) - p_j - slack_dict[s_idx] == 0 , f'disj_2_{j},{k},{m}')"
      ],
      "metadata": {
        "id": "pXzPSc6adYFi"
      },
      "execution_count": null,
      "outputs": []
    },
    {
      "cell_type": "code",
      "source": [
        "def makespan_cons(instance, model, dec_dict):\n",
        "  C = model.addVar(vtype=GRB.INTEGER, name='C')\n",
        "  n_machines = len(instance[0])\n",
        "  n_jobs = len(instance.keys())-1\n",
        "\n",
        "  for j in range(n_jobs):\n",
        "    last_machine = instance[j][-1][0]\n",
        "    p = instance[j][-1][1]\n",
        "\n",
        "    s_idx = len(slack_dict)\n",
        "    slack_dict[s_idx] = model.addVar(vtype=GRB.INTEGER, name=f's_{s_idx}')\n",
        "\n",
        "    model.addConstr(C - dec_dict[j,last_machine] - p - slack_dict[s_idx] == 0, f'makespan_{j}')\n",
        "\n",
        "  return C"
      ],
      "metadata": {
        "id": "c7cRpngVrI_z"
      },
      "execution_count": null,
      "outputs": []
    },
    {
      "cell_type": "markdown",
      "source": [
        "### Graver Basis Extraction"
      ],
      "metadata": {
        "id": "DtdibD6sIvmg"
      }
    },
    {
      "cell_type": "code",
      "source": [
        "def build_int_encoding(upper_bound_array, lower_bound_array, n, encoding='bin'):\n",
        "\n",
        "  #generate lengths based on the chosen encoding\n",
        "  if encoding == 'bin':\n",
        "    k_arr = np.ceil(np.log2(upper_bound_array-lower_bound_array)).astype(np.int64)\n",
        "  else:\n",
        "    k_arr = (upper_bound_array-lower_bound_array).astype(np.int64)\n",
        "\n",
        "  E = np.zeros((n, np.sum(k_arr)), dtype=np.int64)\n",
        "  start=0\n",
        "  for j,k in enumerate(k_arr):\n",
        "    e = np.zeros(k, dtype=np.int64)\n",
        "    for i in range(k):\n",
        "\n",
        "      #apply the selected encoding\n",
        "      if encoding == 'bin':\n",
        "        e[i] = 2**i\n",
        "      else:\n",
        "        e[i] = 1\n",
        "\n",
        "    E[j,start:start+k] = e\n",
        "    start += k\n",
        "\n",
        "\n",
        "  return E\n"
      ],
      "metadata": {
        "id": "usV82LhGKqU9"
      },
      "execution_count": null,
      "outputs": []
    },
    {
      "cell_type": "code",
      "source": [
        "def build_graver_qubo(A, upper_bound_array, lower_bound_array, encoding='bin'):\n",
        "  Q_i = A.T @ A\n",
        "  n = Q_i.shape[0]\n",
        "\n",
        "  E = build_int_encoding(upper_bound_array, lower_bound_array, n, encoding=encoding)\n",
        "\n",
        "  graver_qubo = (E.T @ Q_i @ E + np.diag(2*lower_bound_array.T @ Q_i @ E)).astype(np.int64)\n",
        "  #print((2*lower_bound_array.T @ Q_i @ E).shape)\n",
        "\n",
        "  return graver_qubo\n"
      ],
      "metadata": {
        "id": "sTPhr8WxF0eK"
      },
      "execution_count": null,
      "outputs": []
    },
    {
      "cell_type": "code",
      "source": [
        "def unencode_sample(lower, E, X):\n",
        "  unencoded_sample = lower + E @ X\n",
        "  return unencoded_sample"
      ],
      "metadata": {
        "id": "eCMMGq_jpTc4"
      },
      "execution_count": null,
      "outputs": []
    },
    {
      "cell_type": "code",
      "source": [
        "A = np.array([[2,1,1,0,0,0],[0,1,0,2,1,0],[0,0,1,0,1,2]])\n",
        "A"
      ],
      "metadata": {
        "id": "Q4Le9paiiE1X",
        "colab": {
          "base_uri": "https://localhost:8080/"
        },
        "outputId": "9ff762f6-d644-4a02-8f94-30bab6c712f6"
      },
      "execution_count": 239,
      "outputs": [
        {
          "output_type": "execute_result",
          "data": {
            "text/plain": [
              "array([[2, 1, 1, 0, 0, 0],\n",
              "       [0, 1, 0, 2, 1, 0],\n",
              "       [0, 0, 1, 0, 1, 2]])"
            ]
          },
          "metadata": {},
          "execution_count": 239
        }
      ]
    },
    {
      "cell_type": "code",
      "source": [
        "Q = A.T @ A"
      ],
      "metadata": {
        "id": "PCjm7C-aDlOh"
      },
      "execution_count": 240,
      "outputs": []
    },
    {
      "cell_type": "code",
      "source": [
        "qm = dimod.QuadraticModel()\n",
        "\n",
        "for i in range(Q.shape[0]):\n",
        "  qm.add_variable('INTEGER', f'x[{i}]', lower_bound = -2,upper_bound =  2)\n",
        "\n",
        "#this step is needed to easily obtain the dictionary of the interactions\n",
        "X = pyqubo.Array.create('x', shape=Q.shape[0], vartype='BINARY')\n",
        "exp = X.T @ Q @ X\n",
        "m = exp.compile()\n",
        "bqm = m.to_qubo()\n",
        "\n",
        "qm.add_quadratic_from(bqm[0])\n",
        "\n",
        "#convert to CQM (for reasons DWave's solvers can't deal with QM)\n",
        "cqm = dimod.ConstrainedQuadraticModel().from_bqm(qm)"
      ],
      "metadata": {
        "id": "evNED-2Zhreg"
      },
      "execution_count": 262,
      "outputs": []
    },
    {
      "cell_type": "code",
      "source": [
        "sampler = dimod.ExactCQMSolver()"
      ],
      "metadata": {
        "id": "-oro1Fe6E9vG"
      },
      "execution_count": 259,
      "outputs": []
    },
    {
      "cell_type": "code",
      "source": [
        "sampleset = sampler.sample_cqm(cqm)"
      ],
      "metadata": {
        "id": "VGVg5p9SHFQ5"
      },
      "execution_count": 260,
      "outputs": []
    },
    {
      "cell_type": "code",
      "source": [
        "np.unique(sampleset.record.energy)"
      ],
      "metadata": {
        "colab": {
          "base_uri": "https://localhost:8080/"
        },
        "id": "TuXdscD5ckc2",
        "outputId": "92dffb3c-a9eb-48f8-b073-c1cd3069b1ab"
      },
      "execution_count": 261,
      "outputs": [
        {
          "output_type": "execute_result",
          "data": {
            "text/plain": [
              "array([  0.,   2.,   4.,   6.,   8.,  10.,  12.,  14.,  16.,  18.,  20.,\n",
              "        22.,  24.,  26.,  30.,  32.,  34.,  36.,  38.,  40.,  42.,  44.,\n",
              "        46.,  48.,  50.,  52.,  54.,  56.,  58.,  62.,  64.,  66.,  68.,\n",
              "        70.,  72.,  74.,  76.,  78.,  80.,  82.,  84.,  86.,  88.,  90.,\n",
              "        94.,  96.,  98., 100., 102., 104., 108., 110., 114., 116., 122.,\n",
              "       128., 132., 134., 136., 138., 144., 162., 164., 192.])"
            ]
          },
          "metadata": {},
          "execution_count": 261
        }
      ]
    },
    {
      "cell_type": "code",
      "source": [
        "filter_idx = [i for i, e in enumerate(sampleset.record.energy) if e == 0.0]\n",
        "len(filter_idx)"
      ],
      "metadata": {
        "id": "4jgHtMaWUenx",
        "colab": {
          "base_uri": "https://localhost:8080/"
        },
        "outputId": "84984cb8-5ee9-46b1-b479-fc6e4b883ed7"
      },
      "execution_count": 256,
      "outputs": [
        {
          "output_type": "execute_result",
          "data": {
            "text/plain": [
              "35"
            ]
          },
          "metadata": {},
          "execution_count": 256
        }
      ]
    },
    {
      "cell_type": "code",
      "source": [
        "sampleset.record.sample[filter_idx]"
      ],
      "metadata": {
        "id": "8cvJYJX8QZoD"
      },
      "execution_count": null,
      "outputs": []
    },
    {
      "cell_type": "markdown",
      "source": [
        "## Time-Indexing Formulation(QUBO)"
      ],
      "metadata": {
        "id": "EkT-6JgdUee_"
      }
    },
    {
      "cell_type": "code",
      "source": [
        "def qubo_var_dict(instance):\n",
        "  var_dict = {}\n",
        "\n",
        "  n_machines = len(instance[0])\n",
        "  n_jobs = len(instance.keys())-1\n",
        "  timespan = instance['timespan']\n",
        "\n",
        "  for j in range(n_jobs):\n",
        "      for o in range(n_machines):\n",
        "        for t in range(timespan):\n",
        "          var_dict[(o,j,t)] = pyqubo.Binary(f'x_{o},{j},{t}') #o=order position, j=relative job, t=time\n",
        "  return var_dict"
      ],
      "metadata": {
        "id": "h-JqPlNDkivM"
      },
      "execution_count": null,
      "outputs": []
    },
    {
      "cell_type": "markdown",
      "source": [
        "### Penalties"
      ],
      "metadata": {
        "id": "lMq_BGMMkn9_"
      }
    },
    {
      "cell_type": "markdown",
      "source": [
        "This function generates penalty relative to the **START ONLY ONCE** constraint.\n",
        "\n",
        "The mathematical formulation of this constraint is:\n",
        "$$ \\sum_i(\\sum_t x_{i,t} -1)^2 $$\n",
        "\n",
        "And so we have an edge for every pair $x_{i,t}, x_{i,p}$ where $p \\neq t$\n",
        "\n",
        "This kind of edges are orange in the final plots"
      ],
      "metadata": {
        "id": "9wOThIkeCw7m"
      }
    },
    {
      "cell_type": "code",
      "source": [
        "def soo_cons(instance, var_dict):\n",
        "  tot = 0\n",
        "  n_machines = len(instance[0])\n",
        "  n_jobs = len(instance.keys())-1\n",
        "  timespan = instance['timespan']\n",
        "\n",
        "  for j in range(n_jobs): #relative job\n",
        "    for o in range(n_machines): #order position\n",
        "      part = 0\n",
        "      for t in range(timespan):\n",
        "        part += var_dict[o,j,t]\n",
        "      part = (part - 1)**2\n",
        "      tot += part\n",
        "  return tot"
      ],
      "metadata": {
        "id": "xQkMxNrFks7-"
      },
      "execution_count": null,
      "outputs": []
    },
    {
      "cell_type": "markdown",
      "source": [
        "This function generates the edges relative to the **OPERATION ORDER** constraint.\n",
        "\n",
        "The mathematical formulation of this constraint is:\n",
        "\n",
        "$$ \\sum_{ k_{n-1}<i<k_n \\atop t+p_i > t'}  x_{i,t}x_{i+1,t'}$$"
      ],
      "metadata": {
        "id": "uFA7Iop-Cy-d"
      }
    },
    {
      "cell_type": "code",
      "source": [
        "def oo_cons(instance, var_dict):\n",
        "  n_machines = len(instance[0])\n",
        "  n_jobs = len(instance.keys())-1\n",
        "  timespan = instance['timespan']\n",
        "\n",
        "  tot=0\n",
        "  for job in range(n_jobs):#relative job\n",
        "    for o in range(n_machines-1): #order position\n",
        "      task = instance[job][o]\n",
        "      p = task[1] #duration\n",
        "\n",
        "      for t in range(timespan):\n",
        "        t_max = min(t + p, timespan)\n",
        "        for t_p in range(t_max):\n",
        "\n",
        "          #m_p = task_p[0]\n",
        "\n",
        "          tot += var_dict[o,job,t]*var_dict[o+1,job,t_p]\n",
        "  return tot"
      ],
      "metadata": {
        "id": "sz1NpYyHlVfu"
      },
      "execution_count": null,
      "outputs": []
    },
    {
      "cell_type": "markdown",
      "source": [
        "This set of functions generates the edges relative to the **ONE AT TIME PER MACHINE** constraint.\n",
        "\n",
        "The mathematical formulation of this constraint is:\n",
        "$$\\sum_{(i,t,k,t')\\in R_m} x_{i,t}x_{k,t'} $$\n",
        "\n",
        "where $R_m = A_m \\cup B_m$\n",
        "\n",
        "And $A_m = \\{(i,t,k,t'): (i,k) \\in I_M \\times I_M, \\\\ \\qquad \\qquad i \\neq j,\\\\ \\qquad \\qquad 0\\leq t,\\\\ \\qquad \\qquad t'\\leq T,\\\\ \\qquad \\qquad 0<t'-t<p_i  \\}$\n",
        "\n",
        "where $I_M$ is the set of all tasks that need the machine M to run."
      ],
      "metadata": {
        "id": "RJvVJtXKC2_5"
      }
    },
    {
      "cell_type": "code",
      "source": [
        "def I_set(instance,m):\n",
        "    n_machines = len(instance[0])\n",
        "    n_jobs = len(instance.keys())-1\n",
        "    timespan = instance['timespan']\n",
        "\n",
        "    I_m = set()\n",
        "    for job in range(n_jobs):\n",
        "        for o,task in enumerate(instance[job]):\n",
        "            if task[0] == m:\n",
        "                I_m.add((o,job))\n",
        "\n",
        "    I_mx = set(product(I_m, repeat=2))\n",
        "\n",
        "    rm_list = []\n",
        "    for e in I_mx:\n",
        "        if e[0] == e[1]:\n",
        "            rm_list.append(e)\n",
        "    for r in rm_list:\n",
        "        I_mx.remove(r)\n",
        "\n",
        "    return I_mx"
      ],
      "metadata": {
        "id": "4s93HdAlocYB"
      },
      "execution_count": null,
      "outputs": []
    },
    {
      "cell_type": "code",
      "source": [
        "def A_set(instance, m):\n",
        "  n_machines = len(instance[0])\n",
        "  n_jobs = len(instance.keys())-1\n",
        "  timespan = instance['timespan']\n",
        "\n",
        "  I_mx = I_set(instance, m)\n",
        "\n",
        "  A_m = set()\n",
        "\n",
        "  for e in I_mx: #e = ((o1,j1),(o2,j2))\n",
        "\n",
        "    job = e[0][1]\n",
        "    for t in instance[job]:\n",
        "      if t[0] == m:\n",
        "        p = t[1] #duration task position i\n",
        "\n",
        "    for t in range(timespan):\n",
        "      for t_p in range(timespan):\n",
        "        if (0<t_p - t) and (t_p-t<p):\n",
        "          new_el = ((e[0][0], e[0][1], t), (e[1][0], e[1][1], t_p))\n",
        "          A_m.add(new_el)\n",
        "  return A_m"
      ],
      "metadata": {
        "id": "C0nNx_XyrWuO"
      },
      "execution_count": null,
      "outputs": []
    },
    {
      "cell_type": "code",
      "source": [
        "def B_set(instance, m):\n",
        "  n_machines = len(instance[0])\n",
        "  n_jobs = len(instance.keys())-1\n",
        "  timespan = instance['timespan']\n",
        "\n",
        "  I_mx = I_set(instance, m)\n",
        "\n",
        "  B_m = set()\n",
        "\n",
        "  for e in I_mx:\n",
        "    job_i = e[0][1]\n",
        "\n",
        "    for i,t in enumerate(instance[job_i]):\n",
        "      if t[0] == m:\n",
        "        p_i = t[1] #duration\n",
        "        o_i = i\n",
        "\n",
        "    job_j = e[0][1]\n",
        "\n",
        "    for i,t in enumerate(instance[job_i]):\n",
        "      if t[0] == m:\n",
        "        p_j = t[1] #duration\n",
        "        o_j = i\n",
        "\n",
        "\n",
        "    if p_j > 0 and p_i>0:\n",
        "      for t in range(timespan):\n",
        "        new_el = ((e[0][0], e[0][1], t), (e[1][0], e[1][1], t))\n",
        "        B_m.add(new_el)\n",
        "\n",
        "  return B_m"
      ],
      "metadata": {
        "id": "7FR9agpfu_6k"
      },
      "execution_count": null,
      "outputs": []
    },
    {
      "cell_type": "code",
      "source": [
        "def otm_cons(instance, var_dict):\n",
        "  n_machines = len(instance[0])\n",
        "  n_jobs = len(instance.keys())-1\n",
        "  timespan = instance['timespan']\n",
        "  edges = []\n",
        "  tot = 0\n",
        "  for m in range(n_machines):\n",
        "      R_m = A_set(instance, m).union(B_set(instance, m))\n",
        "      for e in R_m:\n",
        "        tot += var_dict[e[0]]*var_dict[e[1]]\n",
        "  return tot\n"
      ],
      "metadata": {
        "id": "nrgnD76Or_bj"
      },
      "execution_count": null,
      "outputs": []
    },
    {
      "cell_type": "markdown",
      "source": [
        "###Pruning"
      ],
      "metadata": {
        "id": "2irh9xeNDXHr"
      }
    },
    {
      "cell_type": "markdown",
      "source": [
        "Let $I_j$ be the set of indices of tasks that have to run on the machine $j$ then,\n",
        "if $a,b \\in I_j$ are such that:\n",
        "$$r_a+p_a+p_b+q_b>T$$\n",
        "where $r_i$ is the sum of the execution time of the tasks preceding $O_i$ and $q_i$ is similarly defined for the tasks that follows $O_i$, those values are called **head and tail** of the task.\n",
        "\n",
        "Then $O_a$ must be run after $O_b$ and we can update $r_a$ as:\n",
        "$$r_a = max\\{r_a,r_b+p_b\\}$$\n",
        "\n",
        "Thanks to the symmetry of the problem, similar updates can be performed to the tails."
      ],
      "metadata": {
        "id": "kZHXzS-TDWP4"
      }
    },
    {
      "cell_type": "code",
      "source": [
        "def simple_pruning(instance,var_dict):\n",
        "  n_machines = len(instance[0])\n",
        "  n_jobs = len(instance.keys())-1\n",
        "  timespan = instance['timespan']\n",
        "  ext_instance = copy.deepcopy(instance) #this extended instance will contain also the head and tail of each operation\n",
        "\n",
        "  #head and tail comp\n",
        "  for job in range(n_jobs):\n",
        "    for t_idx,task in enumerate(instance[job]):\n",
        "      p_task = task[1]\n",
        "      m_task = task[0]\n",
        "      #single job upperbound\n",
        "      tail = timespan\n",
        "      for i in range(t_idx, n_machines):\n",
        "        tail -= instance[job][i][1]\n",
        "\n",
        "      #single job lowerbuond\n",
        "      head = 0\n",
        "      for i in range(t_idx):\n",
        "        head += instance[job][i][1]\n",
        "\n",
        "      ext_instance[job][t_idx] += (head,tail)\n",
        "\n",
        "  tmp_instance = copy.deepcopy(ext_instance)\n",
        "  ext_instance = tmp_instance\n",
        "\n",
        "  #node removal\n",
        "  rm_nodes = []\n",
        "  for job in range(n_jobs):\n",
        "    for task in ext_instance[job]:\n",
        "      for node in var_dict:\n",
        "        if (node[0] == task[0]) and (node[1] == job) and ((node[2] < task[2] ) or (node[2] > task[3])):\n",
        "          var_dict[node] = 0\n",
        "\n",
        "  return var_dict, ext_instance"
      ],
      "metadata": {
        "id": "pKKZZrmxwo64"
      },
      "execution_count": null,
      "outputs": []
    },
    {
      "cell_type": "markdown",
      "source": [
        "### Timespan Discrimination"
      ],
      "metadata": {
        "id": "pZf6F0b9Xjix"
      }
    },
    {
      "cell_type": "code",
      "source": [
        "def timespan_dis(instance, var_dict, K=1, energy_array=[0.5]):\n",
        "  n_machines = len(instance[0])\n",
        "  n_jobs = len(instance.keys())-1\n",
        "  timespan = instance['timespan']\n",
        "\n",
        "  temp_dict = copy.copy(var_dict)\n",
        "\n",
        "  tot=0\n",
        "  for k in range(K):\n",
        "    for j in range(n_jobs):\n",
        "      found=False\n",
        "      for i in range(timespan):\n",
        "        triplet = (n_machines-1, j, timespan-k-i-1)                             #check the latest moment avaible for the start of the last operation,\n",
        "        if (triplet in temp_dict and                                            #avaible for the start of the last operation, needed in case of pruning\n",
        "            type(temp_dict[triplet]) is not int and\n",
        "            not found):\n",
        "          tot += energy_array[k]*temp_dict[n_machines-1, j, timespan-k-i-1]\n",
        "          found = True\n",
        "          temp_dict[triplet] = 0\n",
        "\n",
        "\n",
        "  return tot\n"
      ],
      "metadata": {
        "id": "6GQewEvJfWiu"
      },
      "execution_count": null,
      "outputs": []
    },
    {
      "cell_type": "markdown",
      "source": [
        "## Utils"
      ],
      "metadata": {
        "id": "g883I1l2DbN3"
      }
    },
    {
      "cell_type": "code",
      "source": [
        "def draw_solution(solution, instance, formulation='time'):\n",
        "  cmap_nodes = matplotlib.colormaps.get_cmap('viridis')\n",
        "  color_array = np.zeros((1,4))\n",
        "  n_jobs = len(instance)-1\n",
        "\n",
        "  fig, ax = plt.subplots()\n",
        "\n",
        "  y_ticks = []\n",
        "  n_machines = len(instance[0])\n",
        "  timespan = instance['timespan']\n",
        "  for i in range(n_machines):\n",
        "    y_ticks.append(f'M {i}')\n",
        "\n",
        "  ax.set_yticks(range(n_machines), labels=y_ticks)\n",
        "  ax.set_xticks(range(timespan+2))\n",
        "\n",
        "  if formulation == 'time':\n",
        "    for i,var in enumerate(solution):\n",
        "      if solution[var] == 1:\n",
        "        spl = var.split('_')[1].split(',')\n",
        "        order = int(spl[0])\n",
        "        job = int(spl[1])\n",
        "        start = int(spl[2])\n",
        "        color_array[0] = cmap_nodes(job/n_jobs)\n",
        "\n",
        "        machine = instance[job][order][0]\n",
        "        duration = instance[job][order][1]\n",
        "\n",
        "        bar = ax.barh(machine, width=duration, left=start, color=color_array)\n",
        "        ax.bar_label(bar, label_type='center', labels=[f'J {job}, O {order}'])\n",
        "\n",
        "  else:\n",
        "    for i, var in enumerate(solution):\n",
        "      var_name = var.VarName\n",
        "      spl = var_name.split('_')[1].split(',')\n",
        "      job = int(spl[0])\n",
        "      machine = int(spl[1])\n",
        "      start = var.X\n",
        "      color_array[0] = cmap_nodes(job/n_jobs)\n",
        "\n",
        "      for o,t in enumerate(instance[job]):\n",
        "        if t[0] == machine:\n",
        "          duration = t[1]\n",
        "          order = o\n",
        "\n",
        "      bar = ax.barh(machine, width=duration, left=start, color=color_array)\n",
        "      ax.bar_label(bar, label_type='center', labels=[f'J {job}, O {order}'])\n"
      ],
      "metadata": {
        "id": "0yzf8F_c07gN"
      },
      "execution_count": null,
      "outputs": []
    },
    {
      "cell_type": "markdown",
      "source": [
        "# Execution"
      ],
      "metadata": {
        "id": "42Dhw48sDeVc"
      }
    },
    {
      "cell_type": "markdown",
      "source": [
        "## Instance generation"
      ],
      "metadata": {
        "id": "pYpodxqFFKNu"
      }
    },
    {
      "cell_type": "code",
      "source": [
        "# instance presented in Venturelli's work, here used for testing\n",
        "\n",
        "instance = {\n",
        "    0: [(0,2), (1,1), (2,1)],\n",
        "    1: [(2,2), (0,1), (1,2)],\n",
        "    2: [(1,1), (0,1), (2,2)],\n",
        "    'timespan': 6\n",
        "}"
      ],
      "metadata": {
        "id": "p6WQUeaSlCK6"
      },
      "execution_count": null,
      "outputs": []
    },
    {
      "cell_type": "code",
      "source": [
        "#generate random instance (machine, job, max duration, timespan)\n",
        "\n",
        "n_jobs = 2\n",
        "n_machines = 3\n",
        "max_duration = 3\n",
        "timespan = 10\n",
        "\n",
        "instance = generate_random_instance(n_machines, n_jobs, max_duration, timespan)"
      ],
      "metadata": {
        "id": "1g3Ye6Rh0i47"
      },
      "execution_count": null,
      "outputs": []
    },
    {
      "cell_type": "markdown",
      "source": [
        "## Time-Indexing solving"
      ],
      "metadata": {
        "id": "Ulcd2yKY6don"
      }
    },
    {
      "cell_type": "code",
      "source": [
        "#pruning\n",
        "\n",
        "var_dict = qubo_var_dict(instance)\n",
        "#var_dict, ext_instance = simple_pruning(instance, var_dict)"
      ],
      "metadata": {
        "id": "aMW0sGGE12-Y"
      },
      "execution_count": null,
      "outputs": []
    },
    {
      "cell_type": "code",
      "source": [
        "#build the model\n",
        "\n",
        "#add constraints, separating the full hamiltonian in smaller sub-hamiltonians\n",
        "#helps identifing wich constraint gets violated in case of non feasible solutions\n",
        "H = SubH(otm_cons(instance, var_dict), 'otm_cons')\n",
        "H += SubH(soo_cons(instance, var_dict), 'soo_cons')\n",
        "H += SubH(oo_cons(instance, var_dict), 'oo_cons')\n",
        "H += SubH(timespan_dis(instance, var_dict, K=5, energy_array=[0.5,0.4,0.3,0.2,0.1]), 'time_discrimination')\n",
        "model = H.compile()\n",
        "\n",
        "#generate bqm\n",
        "\n",
        "bqm = model.to_bqm()"
      ],
      "metadata": {
        "id": "HhWg5dsyvYL0"
      },
      "execution_count": null,
      "outputs": []
    },
    {
      "cell_type": "markdown",
      "source": [
        "### QPU solving"
      ],
      "metadata": {
        "id": "ULQPGysAFWYP"
      }
    },
    {
      "cell_type": "code",
      "source": [
        "#sample on QPU and standard embedding\n",
        "\n",
        "dw = dwave.system.DWaveSampler(token=client_qpu.token, solver={'topology__type': 'pegasus'})\n",
        "sampler = dwave.system.EmbeddingComposite(dw)\n",
        "\n",
        "sampleset = sampler.sample(bqm,\n",
        "      answer_mode=\"raw\",\n",
        "      num_reads=4500,\n",
        "      annealing_time=40)"
      ],
      "metadata": {
        "id": "JWPumCgg4Vg2"
      },
      "execution_count": null,
      "outputs": []
    },
    {
      "cell_type": "code",
      "source": [
        "#check energy of the best sample\n",
        "solution = sampleset.first.sample\n",
        "round(sampleset.first.energy,2)"
      ],
      "metadata": {
        "colab": {
          "base_uri": "https://localhost:8080/"
        },
        "id": "JGE8wrPOvqjg",
        "outputId": "1a162ea3-aeb5-4344-e90a-5f405b79c7d0"
      },
      "execution_count": null,
      "outputs": [
        {
          "output_type": "execute_result",
          "data": {
            "text/plain": [
              "0.4"
            ]
          },
          "metadata": {},
          "execution_count": 262
        }
      ]
    },
    {
      "cell_type": "markdown",
      "source": [
        "## Disjunctive Solving"
      ],
      "metadata": {
        "id": "KrpmcjPy7XNl"
      }
    },
    {
      "cell_type": "code",
      "source": [
        "model = gb.Model('JSS')\n",
        "\n",
        "dec_dict, bin_dict, slack_dict = ilp_var_dict(instance, model)\n",
        "model.update()"
      ],
      "metadata": {
        "id": "FQ8sYifg72XE"
      },
      "execution_count": null,
      "outputs": []
    },
    {
      "cell_type": "code",
      "source": [
        "prec_const(instance, model, dec_dict, slack_dict)\n",
        "model.update()"
      ],
      "metadata": {
        "id": "AwtzwdFL72XE"
      },
      "execution_count": null,
      "outputs": []
    },
    {
      "cell_type": "code",
      "source": [
        "disj_const(instance, model, dec_dict, bin_dict, slack_dict)\n",
        "model.update()"
      ],
      "metadata": {
        "id": "J1AH5kb172XE"
      },
      "execution_count": null,
      "outputs": []
    },
    {
      "cell_type": "code",
      "source": [
        "C = makespan_cons(instance, model, dec_dict)\n",
        "model.update()"
      ],
      "metadata": {
        "id": "gM3xVM9u72XE"
      },
      "execution_count": null,
      "outputs": []
    },
    {
      "cell_type": "code",
      "source": [
        "model.setObjective(C, GRB.MINIMIZE)\n",
        "model.update()"
      ],
      "metadata": {
        "id": "Dhytxn1e72XE"
      },
      "execution_count": null,
      "outputs": []
    },
    {
      "cell_type": "code",
      "source": [
        "model.optimize()"
      ],
      "metadata": {
        "colab": {
          "base_uri": "https://localhost:8080/"
        },
        "outputId": "383573c4-4b66-47ef-f67f-1c7103d29a5d",
        "id": "eiAOwU8L72XF"
      },
      "execution_count": null,
      "outputs": [
        {
          "output_type": "stream",
          "name": "stdout",
          "text": [
            "Gurobi Optimizer version 10.0.2 build v10.0.2rc0 (linux64)\n",
            "\n",
            "CPU model: Intel(R) Xeon(R) CPU @ 2.20GHz, instruction set [SSE2|AVX|AVX2]\n",
            "Thread count: 1 physical cores, 2 logical processors, using up to 2 threads\n",
            "\n",
            "Optimize a model with 18 rows, 37 columns and 54 nonzeros\n",
            "Model fingerprint: 0xdd92a930\n",
            "Variable types: 0 continuous, 37 integer (12 binary)\n",
            "Coefficient statistics:\n",
            "  Matrix range     [1e+00, 1e+01]\n",
            "  Objective range  [1e+00, 1e+00]\n",
            "  Bounds range     [1e+00, 1e+00]\n",
            "  RHS range        [1e+00, 9e+00]\n",
            "Found heuristic solution: objective 10.0000000\n",
            "Presolve removed 6 rows and 27 columns\n",
            "Presolve time: 0.00s\n",
            "Presolved: 12 rows, 10 columns, 30 nonzeros\n",
            "Variable types: 0 continuous, 10 integer (3 binary)\n",
            "\n",
            "Root relaxation: objective 5.000000e+00, 2 iterations, 0.00 seconds (0.00 work units)\n",
            "\n",
            "    Nodes    |    Current Node    |     Objective Bounds      |     Work\n",
            " Expl Unexpl |  Obj  Depth IntInf | Incumbent    BestBd   Gap | It/Node Time\n",
            "\n",
            "     0     0    5.00000    0    2   10.00000    5.00000  50.0%     -    0s\n",
            "H    0     0                       8.0000000    6.00000  25.0%     -    0s\n",
            "H    0     0                       6.0000000    6.00000  0.00%     -    0s\n",
            "     0     0    6.00000    0    2    6.00000    6.00000  0.00%     -    0s\n",
            "\n",
            "Explored 1 nodes (2 simplex iterations) in 0.06 seconds (0.00 work units)\n",
            "Thread count was 2 (of 2 available processors)\n",
            "\n",
            "Solution count 3: 6 8 10 \n",
            "\n",
            "Optimal solution found (tolerance 1.00e-04)\n",
            "Best objective 6.000000000000e+00, best bound 6.000000000000e+00, gap 0.0000%\n"
          ]
        }
      ]
    },
    {
      "cell_type": "code",
      "source": [
        "solution = []\n",
        "for v in model.getVars():\n",
        "  if 'x_' in v.VarName:\n",
        "    solution.append(v)"
      ],
      "metadata": {
        "id": "b1GUM1DL72XF"
      },
      "execution_count": null,
      "outputs": []
    },
    {
      "cell_type": "markdown",
      "source": [
        "## Visualization"
      ],
      "metadata": {
        "id": "M6cY3xJDFf3a"
      }
    },
    {
      "cell_type": "markdown",
      "source": [
        "### Single solution"
      ],
      "metadata": {
        "id": "Moou7X2CFjF6"
      }
    },
    {
      "cell_type": "code",
      "source": [
        "#draw solution\n",
        "draw_solution(solution, instance, formulation='disj')"
      ],
      "metadata": {
        "colab": {
          "base_uri": "https://localhost:8080/",
          "height": 430
        },
        "id": "piNWnTR408Nf",
        "outputId": "c96609fd-1cc4-47db-b040-e47c9ddfc5d7"
      },
      "execution_count": null,
      "outputs": [
        {
          "output_type": "display_data",
          "data": {
            "text/plain": [
              "<Figure size 640x480 with 1 Axes>"
            ],
            "image/png": "[encoded data removed]"
          },
          "metadata": {}
        }
      ]
    },
    {
      "cell_type": "code",
      "source": [
        "#check wich constraint gets violated ('time_discrimination' is not a proper  constraint,\n",
        "#it is a penalty added to longer makespans) ONLY FOR TIME-INDEXING FORMULATION\n",
        "\n",
        "decoded = model.decode_sample(solution, vartype='BINARY')\n",
        "decoded.subh"
      ],
      "metadata": {
        "colab": {
          "base_uri": "https://localhost:8080/"
        },
        "id": "BB1uXxwYMZbF",
        "outputId": "4d3ac9b3-9edb-4c17-95ff-cc844795569f"
      },
      "execution_count": null,
      "outputs": [
        {
          "output_type": "execute_result",
          "data": {
            "text/plain": [
              "{'otm_cons': 0.0, 'time_discrimination': 0.1, 'oo_cons': 0.0, 'soo_cons': 0.0}"
            ]
          },
          "metadata": {},
          "execution_count": 245
        }
      ]
    }
  ]
}
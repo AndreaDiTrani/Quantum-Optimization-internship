{
 "cells": [
  {
   "attachments": {},
   "cell_type": "markdown",
   "metadata": {},
   "source": [
    "# IMPORTS"
   ]
  },
  {
   "cell_type": "code",
   "execution_count": 1,
   "metadata": {},
   "outputs": [],
   "source": [
    "import numpy as np\n",
    "import random\n",
    "\n",
    "import dimod\n",
    "import dwave\n",
    "import dwave.system"
   ]
  },
  {
   "attachments": {},
   "cell_type": "markdown",
   "metadata": {},
   "source": [
    "# Bin Packing"
   ]
  },
  {
   "attachments": {},
   "cell_type": "markdown",
   "metadata": {},
   "source": [
    "## Problem Formulation"
   ]
  },
  {
   "cell_type": "code",
   "execution_count": 5,
   "metadata": {},
   "outputs": [
    {
     "name": "stdout",
     "output_type": "stream",
     "text": [
      "Problem: pack a total weight of 63 into bins of capacity 21.\n"
     ]
    }
   ],
   "source": [
    "#here i generate a synthetic(random) set of items\n",
    "\n",
    "num_items=15\n",
    "item_weight_range = [3,7]\n",
    "weights = np.random.randint(*item_weight_range, num_items)\n",
    "bin_capacity = int(5 * np.mean(weights))\n",
    "print(\"Problem: pack a total weight of {} into bins of capacity {}.\".format(\n",
    "      sum(weights), bin_capacity)) "
   ]
  },
  {
   "cell_type": "code",
   "execution_count": 18,
   "metadata": {},
   "outputs": [],
   "source": [
    "#instantiate the cqm\n",
    "cqm = dimod.ConstrainedQuadraticModel()"
   ]
  },
  {
   "attachments": {},
   "cell_type": "markdown",
   "metadata": {},
   "source": [
    "## Objective Function"
   ]
  },
  {
   "attachments": {},
   "cell_type": "markdown",
   "metadata": {},
   "source": [
    "### Objective Function"
   ]
  },
  {
   "cell_type": "code",
   "execution_count": 7,
   "metadata": {},
   "outputs": [],
   "source": [
    "bin_used = [dimod.Binary(f'bin_used_{j}') for j in range(num_items)]"
   ]
  },
  {
   "cell_type": "code",
   "execution_count": 64,
   "metadata": {},
   "outputs": [],
   "source": [
    "cqm.set_objective(sum(bin_used))"
   ]
  },
  {
   "attachments": {},
   "cell_type": "markdown",
   "metadata": {},
   "source": [
    "### Contraints"
   ]
  },
  {
   "attachments": {},
   "cell_type": "markdown",
   "metadata": {},
   "source": [
    "**Each item can go into only one bin.**\n",
    "\n",
    "Define new binary variables $ x_{ij} = 1 $ if $item_i \\in bin_j$, 0 otherwise.\n",
    "\n",
    "The constraint can then be expressed as:\n",
    "$$\\sum_j x_{ij} == 1 \\quad \\forall i \\in [1,nitems]$$"
   ]
  },
  {
   "cell_type": "code",
   "execution_count": 19,
   "metadata": {},
   "outputs": [],
   "source": [
    "item_in_bin = [ [dimod.Binary(f'item_{i}_in_bin_{j}') for j in range(num_items)] for i in range(num_items)]\n",
    "\n",
    "for i in range(num_items):\n",
    "    one_bin_per_item = cqm.add_constraint( sum(item_in_bin[i]) == 1, label=f'item_placing_{i}')"
   ]
  },
  {
   "attachments": {},
   "cell_type": "markdown",
   "metadata": {},
   "source": [
    "**Each bin has a limited capacity $\\bold c$**\n",
    "\n",
    "$$\\sum_i x_{ij} \\cdot \\omega_i \\leq c$$"
   ]
  },
  {
   "cell_type": "code",
   "execution_count": 25,
   "metadata": {},
   "outputs": [],
   "source": [
    "for j in range(num_items):\n",
    "    bin_up_to_capacity = cqm.add_constraint(\n",
    "        sum(weights[i] * item_in_bin[i][j] for i in range(num_items)) - bin_used[j] * bin_capacity <= 0,\n",
    "        label=f'capacity_bin_{j}'\n",
    "    )"
   ]
  },
  {
   "cell_type": "code",
   "execution_count": 27,
   "metadata": {},
   "outputs": [
    {
     "data": {
      "text/plain": [
       "240"
      ]
     },
     "execution_count": 27,
     "metadata": {},
     "output_type": "execute_result"
    }
   ],
   "source": [
    "len(cqm.variables)"
   ]
  },
  {
   "attachments": {},
   "cell_type": "markdown",
   "metadata": {},
   "source": [
    "## Solve the Problem (Hybrid)"
   ]
  },
  {
   "cell_type": "code",
   "execution_count": 65,
   "metadata": {},
   "outputs": [],
   "source": [
    "sampler = dwave.system.LeapHybridCQMSampler()"
   ]
  },
  {
   "cell_type": "code",
   "execution_count": 66,
   "metadata": {},
   "outputs": [
    {
     "name": "stdout",
     "output_type": "stream",
     "text": [
      "141 feasible solutions of 145.\n"
     ]
    }
   ],
   "source": [
    "sampleset = sampler.sample_cqm(cqm,\n",
    "                               time_limit=180,\n",
    "                               label=\"SDK Examples - Bin Packing\")  \n",
    "feasible_sampleset = sampleset.filter(lambda row: row.is_feasible)  \n",
    "if len(feasible_sampleset):      \n",
    "   best = feasible_sampleset.first\n",
    "   print(\"{} feasible solutions of {}.\".format(\n",
    "      len(feasible_sampleset), len(sampleset)))"
   ]
  },
  {
   "cell_type": "code",
   "execution_count": 67,
   "metadata": {},
   "outputs": [
    {
     "data": {
      "text/plain": [
       "dict_items([('bin_used_0', 0.0), ('bin_used_1', 0.0), ('bin_used_10', 0.0), ('bin_used_11', 0.0), ('bin_used_12', 0.0), ('bin_used_13', 0.0), ('bin_used_14', 1.0), ('bin_used_2', 1.0), ('bin_used_3', 0.0), ('bin_used_4', 0.0), ('bin_used_5', 0.0), ('bin_used_6', 1.0), ('bin_used_7', 0.0), ('bin_used_8', 0.0), ('bin_used_9', 0.0), ('item_0_in_bin_0', 0.0), ('item_0_in_bin_1', 0.0), ('item_0_in_bin_10', 0.0), ('item_0_in_bin_11', 0.0), ('item_0_in_bin_12', 0.0), ('item_0_in_bin_13', 0.0), ('item_0_in_bin_14', 0.0), ('item_0_in_bin_2', 1.0), ('item_0_in_bin_3', 0.0), ('item_0_in_bin_4', 0.0), ('item_0_in_bin_5', 0.0), ('item_0_in_bin_6', 0.0), ('item_0_in_bin_7', 0.0), ('item_0_in_bin_8', 0.0), ('item_0_in_bin_9', 0.0), ('item_10_in_bin_0', 0.0), ('item_10_in_bin_1', 0.0), ('item_10_in_bin_10', 0.0), ('item_10_in_bin_11', 0.0), ('item_10_in_bin_12', 0.0), ('item_10_in_bin_13', 0.0), ('item_10_in_bin_14', 0.0), ('item_10_in_bin_2', 1.0), ('item_10_in_bin_3', 0.0), ('item_10_in_bin_4', 0.0), ('item_10_in_bin_5', 0.0), ('item_10_in_bin_6', 0.0), ('item_10_in_bin_7', 0.0), ('item_10_in_bin_8', 0.0), ('item_10_in_bin_9', 0.0), ('item_11_in_bin_0', 0.0), ('item_11_in_bin_1', 0.0), ('item_11_in_bin_10', 0.0), ('item_11_in_bin_11', 0.0), ('item_11_in_bin_12', 0.0), ('item_11_in_bin_13', 0.0), ('item_11_in_bin_14', 1.0), ('item_11_in_bin_2', 0.0), ('item_11_in_bin_3', 0.0), ('item_11_in_bin_4', 0.0), ('item_11_in_bin_5', 0.0), ('item_11_in_bin_6', 0.0), ('item_11_in_bin_7', 0.0), ('item_11_in_bin_8', 0.0), ('item_11_in_bin_9', 0.0), ('item_12_in_bin_0', 0.0), ('item_12_in_bin_1', 0.0), ('item_12_in_bin_10', 0.0), ('item_12_in_bin_11', 0.0), ('item_12_in_bin_12', 0.0), ('item_12_in_bin_13', 0.0), ('item_12_in_bin_14', 1.0), ('item_12_in_bin_2', 0.0), ('item_12_in_bin_3', 0.0), ('item_12_in_bin_4', 0.0), ('item_12_in_bin_5', 0.0), ('item_12_in_bin_6', 0.0), ('item_12_in_bin_7', 0.0), ('item_12_in_bin_8', 0.0), ('item_12_in_bin_9', 0.0), ('item_13_in_bin_0', 0.0), ('item_13_in_bin_1', 0.0), ('item_13_in_bin_10', 0.0), ('item_13_in_bin_11', 0.0), ('item_13_in_bin_12', 0.0), ('item_13_in_bin_13', 0.0), ('item_13_in_bin_14', 0.0), ('item_13_in_bin_2', 0.0), ('item_13_in_bin_3', 0.0), ('item_13_in_bin_4', 0.0), ('item_13_in_bin_5', 0.0), ('item_13_in_bin_6', 1.0), ('item_13_in_bin_7', 0.0), ('item_13_in_bin_8', 0.0), ('item_13_in_bin_9', 0.0), ('item_14_in_bin_0', 0.0), ('item_14_in_bin_1', 0.0), ('item_14_in_bin_10', 0.0), ('item_14_in_bin_11', 0.0), ('item_14_in_bin_12', 0.0), ('item_14_in_bin_13', 0.0), ('item_14_in_bin_14', 0.0), ('item_14_in_bin_2', 1.0), ('item_14_in_bin_3', 0.0), ('item_14_in_bin_4', 0.0), ('item_14_in_bin_5', 0.0), ('item_14_in_bin_6', 0.0), ('item_14_in_bin_7', 0.0), ('item_14_in_bin_8', 0.0), ('item_14_in_bin_9', 0.0), ('item_1_in_bin_0', 0.0), ('item_1_in_bin_1', 0.0), ('item_1_in_bin_10', 0.0), ('item_1_in_bin_11', 0.0), ('item_1_in_bin_12', 0.0), ('item_1_in_bin_13', 0.0), ('item_1_in_bin_14', 1.0), ('item_1_in_bin_2', 0.0), ('item_1_in_bin_3', 0.0), ('item_1_in_bin_4', 0.0), ('item_1_in_bin_5', 0.0), ('item_1_in_bin_6', 0.0), ('item_1_in_bin_7', 0.0), ('item_1_in_bin_8', 0.0), ('item_1_in_bin_9', 0.0), ('item_2_in_bin_0', 0.0), ('item_2_in_bin_1', 0.0), ('item_2_in_bin_10', 0.0), ('item_2_in_bin_11', 0.0), ('item_2_in_bin_12', 0.0), ('item_2_in_bin_13', 0.0), ('item_2_in_bin_14', 1.0), ('item_2_in_bin_2', 0.0), ('item_2_in_bin_3', 0.0), ('item_2_in_bin_4', 0.0), ('item_2_in_bin_5', 0.0), ('item_2_in_bin_6', 0.0), ('item_2_in_bin_7', 0.0), ('item_2_in_bin_8', 0.0), ('item_2_in_bin_9', 0.0), ('item_3_in_bin_0', 0.0), ('item_3_in_bin_1', 0.0), ('item_3_in_bin_10', 0.0), ('item_3_in_bin_11', 0.0), ('item_3_in_bin_12', 0.0), ('item_3_in_bin_13', 0.0), ('item_3_in_bin_14', 0.0), ('item_3_in_bin_2', 0.0), ('item_3_in_bin_3', 0.0), ('item_3_in_bin_4', 0.0), ('item_3_in_bin_5', 0.0), ('item_3_in_bin_6', 1.0), ('item_3_in_bin_7', 0.0), ('item_3_in_bin_8', 0.0), ('item_3_in_bin_9', 0.0), ('item_4_in_bin_0', 0.0), ('item_4_in_bin_1', 0.0), ('item_4_in_bin_10', 0.0), ('item_4_in_bin_11', 0.0), ('item_4_in_bin_12', 0.0), ('item_4_in_bin_13', 0.0), ('item_4_in_bin_14', 0.0), ('item_4_in_bin_2', 0.0), ('item_4_in_bin_3', 0.0), ('item_4_in_bin_4', 0.0), ('item_4_in_bin_5', 0.0), ('item_4_in_bin_6', 1.0), ('item_4_in_bin_7', 0.0), ('item_4_in_bin_8', 0.0), ('item_4_in_bin_9', 0.0), ('item_5_in_bin_0', 0.0), ('item_5_in_bin_1', 0.0), ('item_5_in_bin_10', 0.0), ('item_5_in_bin_11', 0.0), ('item_5_in_bin_12', 0.0), ('item_5_in_bin_13', 0.0), ('item_5_in_bin_14', 0.0), ('item_5_in_bin_2', 1.0), ('item_5_in_bin_3', 0.0), ('item_5_in_bin_4', 0.0), ('item_5_in_bin_5', 0.0), ('item_5_in_bin_6', 0.0), ('item_5_in_bin_7', 0.0), ('item_5_in_bin_8', 0.0), ('item_5_in_bin_9', 0.0), ('item_6_in_bin_0', 0.0), ('item_6_in_bin_1', 0.0), ('item_6_in_bin_10', 0.0), ('item_6_in_bin_11', 0.0), ('item_6_in_bin_12', 0.0), ('item_6_in_bin_13', 0.0), ('item_6_in_bin_14', 0.0), ('item_6_in_bin_2', 1.0), ('item_6_in_bin_3', 0.0), ('item_6_in_bin_4', 0.0), ('item_6_in_bin_5', 0.0), ('item_6_in_bin_6', 0.0), ('item_6_in_bin_7', 0.0), ('item_6_in_bin_8', 0.0), ('item_6_in_bin_9', 0.0), ('item_7_in_bin_0', 0.0), ('item_7_in_bin_1', 0.0), ('item_7_in_bin_10', 0.0), ('item_7_in_bin_11', 0.0), ('item_7_in_bin_12', 0.0), ('item_7_in_bin_13', 0.0), ('item_7_in_bin_14', 0.0), ('item_7_in_bin_2', 0.0), ('item_7_in_bin_3', 0.0), ('item_7_in_bin_4', 0.0), ('item_7_in_bin_5', 0.0), ('item_7_in_bin_6', 1.0), ('item_7_in_bin_7', 0.0), ('item_7_in_bin_8', 0.0), ('item_7_in_bin_9', 0.0), ('item_8_in_bin_0', 0.0), ('item_8_in_bin_1', 0.0), ('item_8_in_bin_10', 0.0), ('item_8_in_bin_11', 0.0), ('item_8_in_bin_12', 0.0), ('item_8_in_bin_13', 0.0), ('item_8_in_bin_14', 1.0), ('item_8_in_bin_2', 0.0), ('item_8_in_bin_3', 0.0), ('item_8_in_bin_4', 0.0), ('item_8_in_bin_5', 0.0), ('item_8_in_bin_6', 0.0), ('item_8_in_bin_7', 0.0), ('item_8_in_bin_8', 0.0), ('item_8_in_bin_9', 0.0), ('item_9_in_bin_0', 0.0), ('item_9_in_bin_1', 0.0), ('item_9_in_bin_10', 0.0), ('item_9_in_bin_11', 0.0), ('item_9_in_bin_12', 0.0), ('item_9_in_bin_13', 0.0), ('item_9_in_bin_14', 0.0), ('item_9_in_bin_2', 0.0), ('item_9_in_bin_3', 0.0), ('item_9_in_bin_4', 0.0), ('item_9_in_bin_5', 0.0), ('item_9_in_bin_6', 1.0), ('item_9_in_bin_7', 0.0), ('item_9_in_bin_8', 0.0), ('item_9_in_bin_9', 0.0)])"
      ]
     },
     "execution_count": 67,
     "metadata": {},
     "output_type": "execute_result"
    }
   ],
   "source": [
    "best.sample.items()"
   ]
  },
  {
   "cell_type": "code",
   "execution_count": 72,
   "metadata": {},
   "outputs": [
    {
     "name": "stdout",
     "output_type": "stream",
     "text": [
      "3 bins are used.\n"
     ]
    }
   ],
   "source": [
    "selected_bins = [key for key, val in best.sample.items() if 'bin_used' in key and val==1.0]   \n",
    "print(\"{} bins are used.\".format(len(selected_bins)))  "
   ]
  },
  {
   "cell_type": "code",
   "execution_count": 69,
   "metadata": {},
   "outputs": [
    {
     "data": {
      "text/plain": [
       "['bin_used_14', 'bin_used_2', 'bin_used_6']"
      ]
     },
     "execution_count": 69,
     "metadata": {},
     "output_type": "execute_result"
    }
   ],
   "source": [
    "selected_bins"
   ]
  },
  {
   "cell_type": "code",
   "execution_count": 34,
   "metadata": {},
   "outputs": [],
   "source": [
    "def get_indices(name):\n",
    "    return [int(digs) for digs in name.split('_') if digs.isdigit()]"
   ]
  },
  {
   "cell_type": "code",
   "execution_count": 73,
   "metadata": {},
   "outputs": [
    {
     "name": "stdout",
     "output_type": "stream",
     "text": [
      "Bin 14 has weights [3, 3, 4, 6, 5] for a total of 21.\n",
      "Bin 2 has weights [4, 6, 3, 5, 3] for a total of 21.\n",
      "Bin 6 has weights [5, 5, 3, 3, 5] for a total of 21.\n"
     ]
    }
   ],
   "source": [
    "for bin in selected_bins:                        \n",
    "    in_bin = [key for key, val in best.sample.items() if\n",
    "       \"_in_bin\" in key and\n",
    "       get_indices(key)[1] == get_indices(bin)[0]\n",
    "       and val]\n",
    "    b = get_indices(in_bin[0])[1]\n",
    "    w = [weights[get_indices(item)[0]] for item in in_bin]\n",
    "    print(\"Bin {} has weights {} for a total of {}.\".format(b, w, sum(w)))"
   ]
  },
  {
   "attachments": {},
   "cell_type": "markdown",
   "metadata": {},
   "source": [
    "# Constrained Scheduling"
   ]
  },
  {
   "attachments": {},
   "cell_type": "markdown",
   "metadata": {},
   "source": [
    "## Problem Formulation\n",
    "\n",
    "4 binary variables to formulate the problem: t(time of day), v(venue), l(lenght), p(participation)"
   ]
  },
  {
   "attachments": {},
   "cell_type": "markdown",
   "metadata": {},
   "source": [
    "## Constraints\n",
    "\n",
    "Constraint 1: During business hours, all meetings must be attended in person at the office.\n",
    "\n",
    "Constraint 2: During business hours, participation in meetings is mandatory.\n",
    "\n",
    "Constraint 3: Outside business hours, meetings must be teleconferenced.\n",
    "\n",
    "Constraint 4: Outside business hours, meetings must not exceed 30 minutes.\n",
    "\n",
    "## Constraints as Penalties\n",
    "\n",
    "1. If t == 1 then v == 1, so the penalty is t - tv\n",
    "2. if t == 1 then p == 1, $\\qquad\\qquad\\qquad$ t - tp\n",
    "3. if t == 0 then v == 0, $\\qquad\\qquad\\qquad$ v - vt\n",
    "4. if t == 0 then l == 1, $\\qquad\\qquad\\qquad$ 1 + tl - t - l"
   ]
  },
  {
   "cell_type": "code",
   "execution_count": 2,
   "metadata": {},
   "outputs": [],
   "source": [
    "bqm = dimod.BinaryQuadraticModel({'t':1, 'v':1, 'l':-1},  #linear terms\n",
    "                                 {'tv':-2, 'tl':1, 'tp':-1},  #quadratic terms\n",
    "                                 1,  #constant\n",
    "                                 'BINARY')  #dtype"
   ]
  },
  {
   "attachments": {},
   "cell_type": "markdown",
   "metadata": {},
   "source": [
    "## Solve the problem (CPU)"
   ]
  },
  {
   "cell_type": "code",
   "execution_count": 4,
   "metadata": {},
   "outputs": [],
   "source": [
    "sampler = dimod.reference.samplers.ExactSolver()\n",
    "sampleset = sampler.sample(bqm)"
   ]
  },
  {
   "cell_type": "code",
   "execution_count": 7,
   "metadata": {},
   "outputs": [
    {
     "name": "stdout",
     "output_type": "stream",
     "text": [
      "   l  p  t  v energy num_oc.\n",
      "0  1  0  0  0    0.0       1\n",
      "1  1  1  0  0    0.0       1\n",
      "2  1  1  1  1    0.0       1\n",
      "3  0  1  1  1    0.0       1\n",
      "['BINARY', 4 rows, 4 samples, 4 variables]\n"
     ]
    }
   ],
   "source": [
    "print(sampleset.lowest(atol=.5))"
   ]
  },
  {
   "attachments": {},
   "cell_type": "markdown",
   "metadata": {},
   "source": [
    "## Solve the Problem (QPU)"
   ]
  },
  {
   "cell_type": "code",
   "execution_count": 3,
   "metadata": {},
   "outputs": [],
   "source": [
    "sampler = dwave.system.EmbeddingComposite(dwave.system.DWaveSampler())"
   ]
  },
  {
   "cell_type": "code",
   "execution_count": null,
   "metadata": {},
   "outputs": [],
   "source": [
    "sampleset = sampler.sample(bqm, num_reads=5000, label='SDK Examples - Scheduling')"
   ]
  },
  {
   "cell_type": "code",
   "execution_count": null,
   "metadata": {},
   "outputs": [],
   "source": [
    "print(sampleset.lowest(atol=.5))"
   ]
  },
  {
   "attachments": {},
   "cell_type": "markdown",
   "metadata": {},
   "source": [
    "# Job-Shop Scheduling"
   ]
  },
  {
   "attachments": {},
   "cell_type": "markdown",
   "metadata": {},
   "source": [
    "## Instance generation and Utils"
   ]
  },
  {
   "cell_type": "code",
   "execution_count": 16,
   "metadata": {},
   "outputs": [
    {
     "data": {
      "text/plain": [
       "'job_n: machine_n, duration'"
      ]
     },
     "execution_count": 16,
     "metadata": {},
     "output_type": "execute_result"
    }
   ],
   "source": [
    "def generate_random_instance(n_machine, n_job, max_duration):\n",
    "\n",
    "    instance = {}\n",
    "    machine_list = list(range(n_machine))\n",
    "\n",
    "    for i in range(n_job):\n",
    "        random.shuffle(machine_list)\n",
    "        instance[i] = []\n",
    "        for j in range(n_machine):\n",
    "            instance[i].append((machine_list[j], random.randint(0,max_duration)))\n",
    "    \n",
    "    return instance\n",
    "\n",
    "'job_n: machine_n, duration'\n"
   ]
  },
  {
   "cell_type": "code",
   "execution_count": 37,
   "metadata": {},
   "outputs": [
    {
     "ename": "SyntaxError",
     "evalue": "incomplete input (3739232535.py, line 94)",
     "output_type": "error",
     "traceback": [
      "\u001b[1;36m  Cell \u001b[1;32mIn[37], line 94\u001b[1;36m\u001b[0m\n\u001b[1;33m    \u001b[0m\n\u001b[1;37m    ^\u001b[0m\n\u001b[1;31mSyntaxError\u001b[0m\u001b[1;31m:\u001b[0m incomplete input\n"
     ]
    }
   ],
   "source": [
    "class JSSCQM:\n",
    "\n",
    "    def __init__(self, instance):\n",
    "\n",
    "        self.instance = instance\n",
    "\n",
    "        self.num_jobs = len(instance)\n",
    "        self.num_machines = len(instance[0])\n",
    "        \n",
    "        self.max_makespan = 0\n",
    "        for k in range(self.num_jobs):\n",
    "            for i in range(self.num_machines):\n",
    "                self.max_makespan += instance[k][i][1]\n",
    "\n",
    "        #start time on machine i of job j\n",
    "        self.x = { (i,j): dimod.Integer('x{}_{}'.format(i,j), lower_bound=0, upper_bound=self.max_makespan) \n",
    "                for j in range(self.num_jobs) for i in range(self.num_machines)}\n",
    "        \n",
    "        #equals 1 if job j precedes job k on machine i\n",
    "        self.y = {(i,j,k): dimod.Binary('y{}_{}_{}'.format(i,j,k)) \n",
    "                  for i in range(self.num_jobs) \n",
    "                  for j in range(self.num_jobs)  \n",
    "                  for k in range(self.num_machines)}\n",
    "        \n",
    "        self.makespan = dimod.Integer('makespan', lower_bound=0, upper_bound=self.max_makespan)\n",
    "\n",
    "        self.cqm = dimod.ConstrainedQuadraticModel()\n",
    "\n",
    "        self.define_objective_function()\n",
    "        self.add_overlap_constraint()\n",
    "        self.add_precedence_constraint()\n",
    "\n",
    "    def define_objective_function(self):\n",
    "\n",
    "        self.cqm.set_objective(self.makespan)\n",
    "\n",
    "        for i in range(self.num_jobs):\n",
    "            last_machine = self.instance[i][-1][0]\n",
    "\n",
    "            self.cqm.add_constraint(\n",
    "                self.makespan -self.x[(i, last_machine)] >= self.instance[i][-1][1]\n",
    "            )\n",
    "\n",
    "    def add_precedence_constraint(self):\n",
    "\n",
    "        for j in range(self.num_jobs):\n",
    "            for t in range(self.num_machines):\n",
    "                m_curr = self.instance[j][t][0]\n",
    "                m_prev = self.instance[j][t-1][0]\n",
    "\n",
    "                self.cqm.add_constraint(\n",
    "                    self.x[(j,m_curr)] - self.x[(j,m_prev)] >= instance[j][t-1][1]\n",
    "                )\n",
    "\n",
    "    def add_overlap_constraint(self):\n",
    "        for j in range(self.num_jobs):\n",
    "            for k in range(self.num_jobs):\n",
    "                if j<k:\n",
    "                    for i in range(self.num_machines):\n",
    "                        task_k = self.get_machine_task(k,i)\n",
    "                        task_j = self.get_machine_task(j,i)\n",
    "\n",
    "                        if self.instance[k][task_k][1] > 0 and self.instance[j][task_j][1] > 0:\n",
    "\n",
    "                            self.cqm.add_constraint(\n",
    "                                self.x[(j,i)] - self.x[(k,i)] +\n",
    "\n",
    "                                (self.instance[k][task_k][1] -\n",
    "                                 self.instance[j][task_j][1])*self.y[(j,k,i)] +\n",
    "\n",
    "                                 2*self.y[(j,k,i)]*(self.x[(k,i)] - self.x[(j,i)]) >=\n",
    "                                 self.instance[k][task_k][1],\n",
    "\n",
    "                                 label = 'OneJobj{}_j{}_m{}'.format(j,k,i)\n",
    "                            )\n",
    "\n",
    "    def get_machine_task(self, j, machine):\n",
    "        count = 0\n",
    "        for t in range(self.num_machines):\n",
    "            if self.instance[j][t][0] == machine:\n",
    "                return count\n",
    "            else:\n",
    "                count +=1\n",
    "\n",
    "\n",
    "    \n",
    "        \n",
    "\n",
    "    \n",
    "\n",
    "\n",
    "        \n",
    "\n",
    "    \n"
   ]
  },
  {
   "cell_type": "code",
   "execution_count": 38,
   "metadata": {},
   "outputs": [],
   "source": [
    "instance = generate_random_instance(5,5,10)\n",
    "\n",
    "jss = JSSCQM(instance)"
   ]
  },
  {
   "cell_type": "code",
   "execution_count": 36,
   "metadata": {},
   "outputs": [
    {
     "ename": "TypeError",
     "evalue": "list indices must be integers or slices, not tuple",
     "output_type": "error",
     "traceback": [
      "\u001b[1;31m---------------------------------------------------------------------------\u001b[0m",
      "\u001b[1;31mTypeError\u001b[0m                                 Traceback (most recent call last)",
      "Cell \u001b[1;32mIn[36], line 1\u001b[0m\n\u001b[1;32m----> 1\u001b[0m instance[\u001b[39m0\u001b[39;49m][\u001b[39m0\u001b[39;49m,\u001b[39m0\u001b[39;49m]\n",
      "\u001b[1;31mTypeError\u001b[0m: list indices must be integers or slices, not tuple"
     ]
    }
   ],
   "source": [
    "instance[0][0,0]"
   ]
  },
  {
   "cell_type": "code",
   "execution_count": 26,
   "metadata": {},
   "outputs": [
    {
     "data": {
      "text/plain": [
       "<dimod.constrained.constrained.ConstrainedQuadraticModel at 0x1fcdf847a80>"
      ]
     },
     "execution_count": 26,
     "metadata": {},
     "output_type": "execute_result"
    }
   ],
   "source": [
    "jss.cqm."
   ]
  }
 ],
 "metadata": {
  "kernelspec": {
   "display_name": "Python 3",
   "language": "python",
   "name": "python3"
  },
  "language_info": {
   "codemirror_mode": {
    "name": "ipython",
    "version": 3
   },
   "file_extension": ".py",
   "mimetype": "text/x-python",
   "name": "python",
   "nbconvert_exporter": "python",
   "pygments_lexer": "ipython3",
   "version": "3.11.2"
  },
  "orig_nbformat": 4
 },
 "nbformat": 4,
 "nbformat_minor": 2
}
